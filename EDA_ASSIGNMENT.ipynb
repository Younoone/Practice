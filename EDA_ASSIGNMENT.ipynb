{
  "nbformat": 4,
  "nbformat_minor": 0,
  "metadata": {
    "colab": {
      "provenance": [],
      "include_colab_link": true
    },
    "kernelspec": {
      "name": "python3",
      "display_name": "Python 3"
    },
    "language_info": {
      "name": "python"
    }
  },
  "cells": [
    {
      "cell_type": "markdown",
      "metadata": {
        "id": "view-in-github",
        "colab_type": "text"
      },
      "source": [
        "<a href=\"https://colab.research.google.com/github/Younoone/Practice/blob/main/EDA_ASSIGNMENT.ipynb\" target=\"_parent\"><img src=\"https://colab.research.google.com/assets/colab-badge.svg\" alt=\"Open In Colab\"/></a>"
      ]
    },
    {
      "cell_type": "markdown",
      "source": [
        "#EDA"
      ],
      "metadata": {
        "id": "67ZNXN8OF79T"
      }
    },
    {
      "cell_type": "markdown",
      "source": [
        "Hi everyone, This is your first assignment for week 1...\n",
        "So in this assignment you have to perform EDA on the below dataset.\n",
        "The problem statements are given below.\n",
        "Just write a code for them..."
      ],
      "metadata": {
        "id": "IIfMYAslGDhk"
      }
    },
    {
      "cell_type": "code",
      "execution_count": null,
      "metadata": {
        "colab": {
          "base_uri": "https://localhost:8080/"
        },
        "id": "MC89QfHwiMFp",
        "outputId": "15697389-8f73-4c01-bcea-b42aed778613"
      },
      "outputs": [
        {
          "output_type": "stream",
          "name": "stdout",
          "text": [
            "--2023-09-09 13:43:50--  https://www.kaggle.com/datasets/aestheteaman01/zomato-restaurants-in-delhi-ncr\n",
            "Resolving www.kaggle.com (www.kaggle.com)... 35.244.233.98\n",
            "Connecting to www.kaggle.com (www.kaggle.com)|35.244.233.98|:443... connected.\n",
            "HTTP request sent, awaiting response... 200 OK\n",
            "Length: unspecified [text/html]\n",
            "Saving to: ‘zomato-restaurants-in-delhi-ncr’\n",
            "\n",
            "zomato-restaurants-     [ <=>                ]  15.94K  --.-KB/s    in 0.001s  \n",
            "\n",
            "2023-09-09 13:43:50 (23.8 MB/s) - ‘zomato-restaurants-in-delhi-ncr’ saved [16322]\n",
            "\n"
          ]
        }
      ],
      "source": [
        "!wget https://www.kaggle.com/datasets/aestheteaman01/zomato-restaurants-in-delhi-ncr\n"
      ]
    },
    {
      "cell_type": "markdown",
      "source": [
        "Q1.Are there any null values in the dataset?if yes then fill them.."
      ],
      "metadata": {
        "id": "HtvWYJz-GfqA"
      }
    },
    {
      "cell_type": "code",
      "source": [
        "import numpy as np\n",
        "import pandas as pd\n",
        "import matplotlib.pyplot as plt\n",
        "import seaborn as sns\n",
        "import warnings\n",
        "warnings.filterwarnings('ignore')"
      ],
      "metadata": {
        "id": "s-on8iKJGhbW"
      },
      "execution_count": 1,
      "outputs": []
    },
    {
      "cell_type": "code",
      "source": [
        "Zomato = pd.read_csv(\"DelhiNCR Restaurants.csv\")\n",
        "Zomato"
      ],
      "metadata": {
        "id": "-EdL8qF1GhFy",
        "outputId": "53db517f-b505-4132-9d5d-9144e449515a",
        "colab": {
          "base_uri": "https://localhost:8080/",
          "height": 1000
        }
      },
      "execution_count": 2,
      "outputs": [
        {
          "output_type": "execute_result",
          "data": {
            "text/plain": [
              "             Restaurant_Name  \\\n",
              "0                   Rustom's   \n",
              "1                  Cafe Lota   \n",
              "2     Dum-Pukht - ITC Maurya   \n",
              "3                Burma Burma   \n",
              "4              The Big Chill   \n",
              "...                      ...   \n",
              "1960          Bablu Chic-Inn   \n",
              "1961               Kovilakam   \n",
              "1962        Krips Restaurant   \n",
              "1963                Cafe 147   \n",
              "1964                Pizzasia   \n",
              "\n",
              "                                               Category  Pricing_for_2  \\\n",
              "0     Parsi, Street Food, North Indian, Desserts, Be...           2100   \n",
              "1           Cafe, South Indian, North Indian, Beverages           1200   \n",
              "2                       Mughlai, North Indian, Desserts           5000   \n",
              "3           Asian, Burmese, Bubble Tea, Desserts, Salad           1600   \n",
              "4                        Continental, American, Italian           1500   \n",
              "...                                                 ...            ...   \n",
              "1960          Mughlai, North Indian, Chinese, Fast Food            500   \n",
              "1961                                       South Indian            350   \n",
              "1962                     North Indian, Chinese, Mughlai            900   \n",
              "1963  Cafe, North Indian, Chinese, Kashmiri, Rolls, ...            800   \n",
              "1964                        Pizza, Fast Food, Beverages            500   \n",
              "\n",
              "                                         Locality  Dining_Rating  \\\n",
              "0                                  ITO, New Delhi            4.9   \n",
              "1                       Pragati Maidan, New Delhi            4.9   \n",
              "2             ITC Maurya, Chanakyapuri, New Delhi            4.9   \n",
              "3              Cyber Hub, DLF Cyber City, Gurgaon            4.9   \n",
              "4                          Khan Market, New Delhi            4.9   \n",
              "...                                           ...            ...   \n",
              "1960               Ashok Vihar Phase 3, New Delhi            3.9   \n",
              "1961                    Dilshad Garden, New Delhi            3.9   \n",
              "1962   Basant Lok Market, Vasant Vihar, New Delhi            3.9   \n",
              "1963                      Sainik Farms, New Delhi            3.9   \n",
              "1964                   Gaur City 2, Greater Noida            3.9   \n",
              "\n",
              "      Dining_Review_Count  Delivery_Rating  Delivery_Rating_Count  \\\n",
              "0                    1885              4.4                   1844   \n",
              "1                    3748              3.9                     37   \n",
              "2                    1371              NaN                      0   \n",
              "3                    2636              4.4                   1238   \n",
              "4                    6487              NaN                      0   \n",
              "...                   ...              ...                    ...   \n",
              "1960                  183              4.1                    545   \n",
              "1961                  114              NaN                      1   \n",
              "1962                  316              3.9                   2977   \n",
              "1963                  120              3.8                    196   \n",
              "1964                  165              3.9                   5196   \n",
              "\n",
              "                                                Website  \\\n",
              "0      https://www.zomato.com/ncr/rustoms-ito-new-delhi   \n",
              "1     https://www.zomato.com/ncr/cafe-lota-pragati-m...   \n",
              "2     https://www.zomato.com/ncr/dum-pukht-itc-maury...   \n",
              "3     https://www.zomato.com/ncr/burma-burma-dlf-cyb...   \n",
              "4     https://www.zomato.com/ncr/the-big-chill-khan-...   \n",
              "...                                                 ...   \n",
              "1960  https://www.zomato.com/ncr/bablu-chic-inn-asho...   \n",
              "1961  https://www.zomato.com/ncr/kovilakam-dilshad-g...   \n",
              "1962  https://www.zomato.com/ncr/krips-restaurant-va...   \n",
              "1963  https://www.zomato.com/ncr/cafe-147-sainik-far...   \n",
              "1964  https://www.zomato.com/ncr/pizzasia-gaur-city-...   \n",
              "\n",
              "                                                Address     Phone_No  \\\n",
              "0     Delhi Parsi Anjuman, LNJP Colony, Bahadur Shah...   9.1991E+11   \n",
              "1     National Crafts Museum, Gate 2, Bhairon Marg, ...  9.17839E+11   \n",
              "2                   ITC Maurya, Chanakyapuri, New Delhi  9.11146E+11   \n",
              "3     Shop 6, Ground Floor, Building 8, Tower C, Cyb...  9.11244E+11   \n",
              "4                          68-A, Khan Market, New Delhi  9.11142E+11   \n",
              "...                                                 ...          ...   \n",
              "1960  Shop 9, Pocket B, DDA Market, Ashok Vihar Phas...      9.2E+11   \n",
              "1961  F-1, Lower Ground 2, Mrignaini Chowk, Dilshad ...  9.19654E+11   \n",
              "1962  59, Community Centre, Basant Lok Market, Vasan...  9.11141E+11   \n",
              "1963  Shop A1/7, Ground Floor, Main IGNOU Road, Neb ...  9.19812E+11   \n",
              "1964  Shop 14, Ground Floor, Bhawishya India Tower, ...  9.18861E+11   \n",
              "\n",
              "       Latitude  Longitude                                         Known_For2  \\\n",
              "0     28.638167  77.240472                                                NaN   \n",
              "1     28.613429  77.242471  Pondicherry Fish Curry, Coconut Rabdi, Sabudan...   \n",
              "2     28.598200  77.173661  Royal ambiance and Mughlai cuisine, also recei...   \n",
              "3     28.494464  77.088532  Coconut Milk Dessert, Honey Caviar, Kaffir Lim...   \n",
              "4     28.600350  77.227493  Irish Cream Tiramisu, Penne Vodka, Mississippi...   \n",
              "...         ...        ...                                                ...   \n",
              "1960  28.692473  77.178004  Great Recommendations, Tamper Proof Packaging,...   \n",
              "1961  28.684101  77.326725  Kerala Parotta, Roasted Chicken, Chicken Curry...   \n",
              "1962  28.557310  77.163943  Excellent Food, Good Ambience, Courteous Staff...   \n",
              "1963  28.510338  77.202056  Pool, Live Music, Cafe, Environment, Good Plac...   \n",
              "1964  28.618250  77.427417  Cordial Staff, Great Recommendations, Mouth Wa...   \n",
              "\n",
              "                                            Known_For22  \n",
              "0                                                   NaN  \n",
              "1     Artistic Decor, The Service, Natural Ambience,...  \n",
              "2                                                   NaN  \n",
              "3     Knowledgeable Staff, Authentic, Soothing Ambie...  \n",
              "4     Retro Ambience, Yummy Desserts, Big Portions, ...  \n",
              "...                                                 ...  \n",
              "1960                                                NaN  \n",
              "1961  Lip Smacking Food, Amazing Food, Owner, Good P...  \n",
              "1962                                                NaN  \n",
              "1963                                                NaN  \n",
              "1964                                                NaN  \n",
              "\n",
              "[1965 rows x 15 columns]"
            ],
            "text/html": [
              "\n",
              "  <div id=\"df-23f3eacf-1a1a-47de-8f84-e49b10d987e4\" class=\"colab-df-container\">\n",
              "    <div>\n",
              "<style scoped>\n",
              "    .dataframe tbody tr th:only-of-type {\n",
              "        vertical-align: middle;\n",
              "    }\n",
              "\n",
              "    .dataframe tbody tr th {\n",
              "        vertical-align: top;\n",
              "    }\n",
              "\n",
              "    .dataframe thead th {\n",
              "        text-align: right;\n",
              "    }\n",
              "</style>\n",
              "<table border=\"1\" class=\"dataframe\">\n",
              "  <thead>\n",
              "    <tr style=\"text-align: right;\">\n",
              "      <th></th>\n",
              "      <th>Restaurant_Name</th>\n",
              "      <th>Category</th>\n",
              "      <th>Pricing_for_2</th>\n",
              "      <th>Locality</th>\n",
              "      <th>Dining_Rating</th>\n",
              "      <th>Dining_Review_Count</th>\n",
              "      <th>Delivery_Rating</th>\n",
              "      <th>Delivery_Rating_Count</th>\n",
              "      <th>Website</th>\n",
              "      <th>Address</th>\n",
              "      <th>Phone_No</th>\n",
              "      <th>Latitude</th>\n",
              "      <th>Longitude</th>\n",
              "      <th>Known_For2</th>\n",
              "      <th>Known_For22</th>\n",
              "    </tr>\n",
              "  </thead>\n",
              "  <tbody>\n",
              "    <tr>\n",
              "      <th>0</th>\n",
              "      <td>Rustom's</td>\n",
              "      <td>Parsi, Street Food, North Indian, Desserts, Be...</td>\n",
              "      <td>2100</td>\n",
              "      <td>ITO, New Delhi</td>\n",
              "      <td>4.9</td>\n",
              "      <td>1885</td>\n",
              "      <td>4.4</td>\n",
              "      <td>1844</td>\n",
              "      <td>https://www.zomato.com/ncr/rustoms-ito-new-delhi</td>\n",
              "      <td>Delhi Parsi Anjuman, LNJP Colony, Bahadur Shah...</td>\n",
              "      <td>9.1991E+11</td>\n",
              "      <td>28.638167</td>\n",
              "      <td>77.240472</td>\n",
              "      <td>NaN</td>\n",
              "      <td>NaN</td>\n",
              "    </tr>\n",
              "    <tr>\n",
              "      <th>1</th>\n",
              "      <td>Cafe Lota</td>\n",
              "      <td>Cafe, South Indian, North Indian, Beverages</td>\n",
              "      <td>1200</td>\n",
              "      <td>Pragati Maidan, New Delhi</td>\n",
              "      <td>4.9</td>\n",
              "      <td>3748</td>\n",
              "      <td>3.9</td>\n",
              "      <td>37</td>\n",
              "      <td>https://www.zomato.com/ncr/cafe-lota-pragati-m...</td>\n",
              "      <td>National Crafts Museum, Gate 2, Bhairon Marg, ...</td>\n",
              "      <td>9.17839E+11</td>\n",
              "      <td>28.613429</td>\n",
              "      <td>77.242471</td>\n",
              "      <td>Pondicherry Fish Curry, Coconut Rabdi, Sabudan...</td>\n",
              "      <td>Artistic Decor, The Service, Natural Ambience,...</td>\n",
              "    </tr>\n",
              "    <tr>\n",
              "      <th>2</th>\n",
              "      <td>Dum-Pukht - ITC Maurya</td>\n",
              "      <td>Mughlai, North Indian, Desserts</td>\n",
              "      <td>5000</td>\n",
              "      <td>ITC Maurya, Chanakyapuri, New Delhi</td>\n",
              "      <td>4.9</td>\n",
              "      <td>1371</td>\n",
              "      <td>NaN</td>\n",
              "      <td>0</td>\n",
              "      <td>https://www.zomato.com/ncr/dum-pukht-itc-maury...</td>\n",
              "      <td>ITC Maurya, Chanakyapuri, New Delhi</td>\n",
              "      <td>9.11146E+11</td>\n",
              "      <td>28.598200</td>\n",
              "      <td>77.173661</td>\n",
              "      <td>Royal ambiance and Mughlai cuisine, also recei...</td>\n",
              "      <td>NaN</td>\n",
              "    </tr>\n",
              "    <tr>\n",
              "      <th>3</th>\n",
              "      <td>Burma Burma</td>\n",
              "      <td>Asian, Burmese, Bubble Tea, Desserts, Salad</td>\n",
              "      <td>1600</td>\n",
              "      <td>Cyber Hub, DLF Cyber City, Gurgaon</td>\n",
              "      <td>4.9</td>\n",
              "      <td>2636</td>\n",
              "      <td>4.4</td>\n",
              "      <td>1238</td>\n",
              "      <td>https://www.zomato.com/ncr/burma-burma-dlf-cyb...</td>\n",
              "      <td>Shop 6, Ground Floor, Building 8, Tower C, Cyb...</td>\n",
              "      <td>9.11244E+11</td>\n",
              "      <td>28.494464</td>\n",
              "      <td>77.088532</td>\n",
              "      <td>Coconut Milk Dessert, Honey Caviar, Kaffir Lim...</td>\n",
              "      <td>Knowledgeable Staff, Authentic, Soothing Ambie...</td>\n",
              "    </tr>\n",
              "    <tr>\n",
              "      <th>4</th>\n",
              "      <td>The Big Chill</td>\n",
              "      <td>Continental, American, Italian</td>\n",
              "      <td>1500</td>\n",
              "      <td>Khan Market, New Delhi</td>\n",
              "      <td>4.9</td>\n",
              "      <td>6487</td>\n",
              "      <td>NaN</td>\n",
              "      <td>0</td>\n",
              "      <td>https://www.zomato.com/ncr/the-big-chill-khan-...</td>\n",
              "      <td>68-A, Khan Market, New Delhi</td>\n",
              "      <td>9.11142E+11</td>\n",
              "      <td>28.600350</td>\n",
              "      <td>77.227493</td>\n",
              "      <td>Irish Cream Tiramisu, Penne Vodka, Mississippi...</td>\n",
              "      <td>Retro Ambience, Yummy Desserts, Big Portions, ...</td>\n",
              "    </tr>\n",
              "    <tr>\n",
              "      <th>...</th>\n",
              "      <td>...</td>\n",
              "      <td>...</td>\n",
              "      <td>...</td>\n",
              "      <td>...</td>\n",
              "      <td>...</td>\n",
              "      <td>...</td>\n",
              "      <td>...</td>\n",
              "      <td>...</td>\n",
              "      <td>...</td>\n",
              "      <td>...</td>\n",
              "      <td>...</td>\n",
              "      <td>...</td>\n",
              "      <td>...</td>\n",
              "      <td>...</td>\n",
              "      <td>...</td>\n",
              "    </tr>\n",
              "    <tr>\n",
              "      <th>1960</th>\n",
              "      <td>Bablu Chic-Inn</td>\n",
              "      <td>Mughlai, North Indian, Chinese, Fast Food</td>\n",
              "      <td>500</td>\n",
              "      <td>Ashok Vihar Phase 3, New Delhi</td>\n",
              "      <td>3.9</td>\n",
              "      <td>183</td>\n",
              "      <td>4.1</td>\n",
              "      <td>545</td>\n",
              "      <td>https://www.zomato.com/ncr/bablu-chic-inn-asho...</td>\n",
              "      <td>Shop 9, Pocket B, DDA Market, Ashok Vihar Phas...</td>\n",
              "      <td>9.2E+11</td>\n",
              "      <td>28.692473</td>\n",
              "      <td>77.178004</td>\n",
              "      <td>Great Recommendations, Tamper Proof Packaging,...</td>\n",
              "      <td>NaN</td>\n",
              "    </tr>\n",
              "    <tr>\n",
              "      <th>1961</th>\n",
              "      <td>Kovilakam</td>\n",
              "      <td>South Indian</td>\n",
              "      <td>350</td>\n",
              "      <td>Dilshad Garden, New Delhi</td>\n",
              "      <td>3.9</td>\n",
              "      <td>114</td>\n",
              "      <td>NaN</td>\n",
              "      <td>1</td>\n",
              "      <td>https://www.zomato.com/ncr/kovilakam-dilshad-g...</td>\n",
              "      <td>F-1, Lower Ground 2, Mrignaini Chowk, Dilshad ...</td>\n",
              "      <td>9.19654E+11</td>\n",
              "      <td>28.684101</td>\n",
              "      <td>77.326725</td>\n",
              "      <td>Kerala Parotta, Roasted Chicken, Chicken Curry...</td>\n",
              "      <td>Lip Smacking Food, Amazing Food, Owner, Good P...</td>\n",
              "    </tr>\n",
              "    <tr>\n",
              "      <th>1962</th>\n",
              "      <td>Krips Restaurant</td>\n",
              "      <td>North Indian, Chinese, Mughlai</td>\n",
              "      <td>900</td>\n",
              "      <td>Basant Lok Market, Vasant Vihar, New Delhi</td>\n",
              "      <td>3.9</td>\n",
              "      <td>316</td>\n",
              "      <td>3.9</td>\n",
              "      <td>2977</td>\n",
              "      <td>https://www.zomato.com/ncr/krips-restaurant-va...</td>\n",
              "      <td>59, Community Centre, Basant Lok Market, Vasan...</td>\n",
              "      <td>9.11141E+11</td>\n",
              "      <td>28.557310</td>\n",
              "      <td>77.163943</td>\n",
              "      <td>Excellent Food, Good Ambience, Courteous Staff...</td>\n",
              "      <td>NaN</td>\n",
              "    </tr>\n",
              "    <tr>\n",
              "      <th>1963</th>\n",
              "      <td>Cafe 147</td>\n",
              "      <td>Cafe, North Indian, Chinese, Kashmiri, Rolls, ...</td>\n",
              "      <td>800</td>\n",
              "      <td>Sainik Farms, New Delhi</td>\n",
              "      <td>3.9</td>\n",
              "      <td>120</td>\n",
              "      <td>3.8</td>\n",
              "      <td>196</td>\n",
              "      <td>https://www.zomato.com/ncr/cafe-147-sainik-far...</td>\n",
              "      <td>Shop A1/7, Ground Floor, Main IGNOU Road, Neb ...</td>\n",
              "      <td>9.19812E+11</td>\n",
              "      <td>28.510338</td>\n",
              "      <td>77.202056</td>\n",
              "      <td>Pool, Live Music, Cafe, Environment, Good Plac...</td>\n",
              "      <td>NaN</td>\n",
              "    </tr>\n",
              "    <tr>\n",
              "      <th>1964</th>\n",
              "      <td>Pizzasia</td>\n",
              "      <td>Pizza, Fast Food, Beverages</td>\n",
              "      <td>500</td>\n",
              "      <td>Gaur City 2, Greater Noida</td>\n",
              "      <td>3.9</td>\n",
              "      <td>165</td>\n",
              "      <td>3.9</td>\n",
              "      <td>5196</td>\n",
              "      <td>https://www.zomato.com/ncr/pizzasia-gaur-city-...</td>\n",
              "      <td>Shop 14, Ground Floor, Bhawishya India Tower, ...</td>\n",
              "      <td>9.18861E+11</td>\n",
              "      <td>28.618250</td>\n",
              "      <td>77.427417</td>\n",
              "      <td>Cordial Staff, Great Recommendations, Mouth Wa...</td>\n",
              "      <td>NaN</td>\n",
              "    </tr>\n",
              "  </tbody>\n",
              "</table>\n",
              "<p>1965 rows × 15 columns</p>\n",
              "</div>\n",
              "    <div class=\"colab-df-buttons\">\n",
              "\n",
              "  <div class=\"colab-df-container\">\n",
              "    <button class=\"colab-df-convert\" onclick=\"convertToInteractive('df-23f3eacf-1a1a-47de-8f84-e49b10d987e4')\"\n",
              "            title=\"Convert this dataframe to an interactive table.\"\n",
              "            style=\"display:none;\">\n",
              "\n",
              "  <svg xmlns=\"http://www.w3.org/2000/svg\" height=\"24px\" viewBox=\"0 -960 960 960\">\n",
              "    <path d=\"M120-120v-720h720v720H120Zm60-500h600v-160H180v160Zm220 220h160v-160H400v160Zm0 220h160v-160H400v160ZM180-400h160v-160H180v160Zm440 0h160v-160H620v160ZM180-180h160v-160H180v160Zm440 0h160v-160H620v160Z\"/>\n",
              "  </svg>\n",
              "    </button>\n",
              "\n",
              "  <style>\n",
              "    .colab-df-container {\n",
              "      display:flex;\n",
              "      gap: 12px;\n",
              "    }\n",
              "\n",
              "    .colab-df-convert {\n",
              "      background-color: #E8F0FE;\n",
              "      border: none;\n",
              "      border-radius: 50%;\n",
              "      cursor: pointer;\n",
              "      display: none;\n",
              "      fill: #1967D2;\n",
              "      height: 32px;\n",
              "      padding: 0 0 0 0;\n",
              "      width: 32px;\n",
              "    }\n",
              "\n",
              "    .colab-df-convert:hover {\n",
              "      background-color: #E2EBFA;\n",
              "      box-shadow: 0px 1px 2px rgba(60, 64, 67, 0.3), 0px 1px 3px 1px rgba(60, 64, 67, 0.15);\n",
              "      fill: #174EA6;\n",
              "    }\n",
              "\n",
              "    .colab-df-buttons div {\n",
              "      margin-bottom: 4px;\n",
              "    }\n",
              "\n",
              "    [theme=dark] .colab-df-convert {\n",
              "      background-color: #3B4455;\n",
              "      fill: #D2E3FC;\n",
              "    }\n",
              "\n",
              "    [theme=dark] .colab-df-convert:hover {\n",
              "      background-color: #434B5C;\n",
              "      box-shadow: 0px 1px 3px 1px rgba(0, 0, 0, 0.15);\n",
              "      filter: drop-shadow(0px 1px 2px rgba(0, 0, 0, 0.3));\n",
              "      fill: #FFFFFF;\n",
              "    }\n",
              "  </style>\n",
              "\n",
              "    <script>\n",
              "      const buttonEl =\n",
              "        document.querySelector('#df-23f3eacf-1a1a-47de-8f84-e49b10d987e4 button.colab-df-convert');\n",
              "      buttonEl.style.display =\n",
              "        google.colab.kernel.accessAllowed ? 'block' : 'none';\n",
              "\n",
              "      async function convertToInteractive(key) {\n",
              "        const element = document.querySelector('#df-23f3eacf-1a1a-47de-8f84-e49b10d987e4');\n",
              "        const dataTable =\n",
              "          await google.colab.kernel.invokeFunction('convertToInteractive',\n",
              "                                                    [key], {});\n",
              "        if (!dataTable) return;\n",
              "\n",
              "        const docLinkHtml = 'Like what you see? Visit the ' +\n",
              "          '<a target=\"_blank\" href=https://colab.research.google.com/notebooks/data_table.ipynb>data table notebook</a>'\n",
              "          + ' to learn more about interactive tables.';\n",
              "        element.innerHTML = '';\n",
              "        dataTable['output_type'] = 'display_data';\n",
              "        await google.colab.output.renderOutput(dataTable, element);\n",
              "        const docLink = document.createElement('div');\n",
              "        docLink.innerHTML = docLinkHtml;\n",
              "        element.appendChild(docLink);\n",
              "      }\n",
              "    </script>\n",
              "  </div>\n",
              "\n",
              "\n",
              "<div id=\"df-bcaf566d-1243-4266-92be-40c30b080129\">\n",
              "  <button class=\"colab-df-quickchart\" onclick=\"quickchart('df-bcaf566d-1243-4266-92be-40c30b080129')\"\n",
              "            title=\"Suggest charts.\"\n",
              "            style=\"display:none;\">\n",
              "\n",
              "<svg xmlns=\"http://www.w3.org/2000/svg\" height=\"24px\"viewBox=\"0 0 24 24\"\n",
              "     width=\"24px\">\n",
              "    <g>\n",
              "        <path d=\"M19 3H5c-1.1 0-2 .9-2 2v14c0 1.1.9 2 2 2h14c1.1 0 2-.9 2-2V5c0-1.1-.9-2-2-2zM9 17H7v-7h2v7zm4 0h-2V7h2v10zm4 0h-2v-4h2v4z\"/>\n",
              "    </g>\n",
              "</svg>\n",
              "  </button>\n",
              "\n",
              "<style>\n",
              "  .colab-df-quickchart {\n",
              "      --bg-color: #E8F0FE;\n",
              "      --fill-color: #1967D2;\n",
              "      --hover-bg-color: #E2EBFA;\n",
              "      --hover-fill-color: #174EA6;\n",
              "      --disabled-fill-color: #AAA;\n",
              "      --disabled-bg-color: #DDD;\n",
              "  }\n",
              "\n",
              "  [theme=dark] .colab-df-quickchart {\n",
              "      --bg-color: #3B4455;\n",
              "      --fill-color: #D2E3FC;\n",
              "      --hover-bg-color: #434B5C;\n",
              "      --hover-fill-color: #FFFFFF;\n",
              "      --disabled-bg-color: #3B4455;\n",
              "      --disabled-fill-color: #666;\n",
              "  }\n",
              "\n",
              "  .colab-df-quickchart {\n",
              "    background-color: var(--bg-color);\n",
              "    border: none;\n",
              "    border-radius: 50%;\n",
              "    cursor: pointer;\n",
              "    display: none;\n",
              "    fill: var(--fill-color);\n",
              "    height: 32px;\n",
              "    padding: 0;\n",
              "    width: 32px;\n",
              "  }\n",
              "\n",
              "  .colab-df-quickchart:hover {\n",
              "    background-color: var(--hover-bg-color);\n",
              "    box-shadow: 0 1px 2px rgba(60, 64, 67, 0.3), 0 1px 3px 1px rgba(60, 64, 67, 0.15);\n",
              "    fill: var(--button-hover-fill-color);\n",
              "  }\n",
              "\n",
              "  .colab-df-quickchart-complete:disabled,\n",
              "  .colab-df-quickchart-complete:disabled:hover {\n",
              "    background-color: var(--disabled-bg-color);\n",
              "    fill: var(--disabled-fill-color);\n",
              "    box-shadow: none;\n",
              "  }\n",
              "\n",
              "  .colab-df-spinner {\n",
              "    border: 2px solid var(--fill-color);\n",
              "    border-color: transparent;\n",
              "    border-bottom-color: var(--fill-color);\n",
              "    animation:\n",
              "      spin 1s steps(1) infinite;\n",
              "  }\n",
              "\n",
              "  @keyframes spin {\n",
              "    0% {\n",
              "      border-color: transparent;\n",
              "      border-bottom-color: var(--fill-color);\n",
              "      border-left-color: var(--fill-color);\n",
              "    }\n",
              "    20% {\n",
              "      border-color: transparent;\n",
              "      border-left-color: var(--fill-color);\n",
              "      border-top-color: var(--fill-color);\n",
              "    }\n",
              "    30% {\n",
              "      border-color: transparent;\n",
              "      border-left-color: var(--fill-color);\n",
              "      border-top-color: var(--fill-color);\n",
              "      border-right-color: var(--fill-color);\n",
              "    }\n",
              "    40% {\n",
              "      border-color: transparent;\n",
              "      border-right-color: var(--fill-color);\n",
              "      border-top-color: var(--fill-color);\n",
              "    }\n",
              "    60% {\n",
              "      border-color: transparent;\n",
              "      border-right-color: var(--fill-color);\n",
              "    }\n",
              "    80% {\n",
              "      border-color: transparent;\n",
              "      border-right-color: var(--fill-color);\n",
              "      border-bottom-color: var(--fill-color);\n",
              "    }\n",
              "    90% {\n",
              "      border-color: transparent;\n",
              "      border-bottom-color: var(--fill-color);\n",
              "    }\n",
              "  }\n",
              "</style>\n",
              "\n",
              "  <script>\n",
              "    async function quickchart(key) {\n",
              "      const quickchartButtonEl =\n",
              "        document.querySelector('#' + key + ' button');\n",
              "      quickchartButtonEl.disabled = true;  // To prevent multiple clicks.\n",
              "      quickchartButtonEl.classList.add('colab-df-spinner');\n",
              "      try {\n",
              "        const charts = await google.colab.kernel.invokeFunction(\n",
              "            'suggestCharts', [key], {});\n",
              "      } catch (error) {\n",
              "        console.error('Error during call to suggestCharts:', error);\n",
              "      }\n",
              "      quickchartButtonEl.classList.remove('colab-df-spinner');\n",
              "      quickchartButtonEl.classList.add('colab-df-quickchart-complete');\n",
              "    }\n",
              "    (() => {\n",
              "      let quickchartButtonEl =\n",
              "        document.querySelector('#df-bcaf566d-1243-4266-92be-40c30b080129 button');\n",
              "      quickchartButtonEl.style.display =\n",
              "        google.colab.kernel.accessAllowed ? 'block' : 'none';\n",
              "    })();\n",
              "  </script>\n",
              "</div>\n",
              "    </div>\n",
              "  </div>\n"
            ]
          },
          "metadata": {},
          "execution_count": 2
        }
      ]
    },
    {
      "cell_type": "code",
      "source": [
        "Zomato.isna().sum()"
      ],
      "metadata": {
        "id": "pTUCp8RyRVSa",
        "outputId": "555fb632-196c-46fc-f8d0-e58be11df050",
        "colab": {
          "base_uri": "https://localhost:8080/"
        }
      },
      "execution_count": 3,
      "outputs": [
        {
          "output_type": "execute_result",
          "data": {
            "text/plain": [
              "Restaurant_Name            0\n",
              "Category                   0\n",
              "Pricing_for_2              0\n",
              "Locality                   0\n",
              "Dining_Rating              0\n",
              "Dining_Review_Count        0\n",
              "Delivery_Rating          402\n",
              "Delivery_Rating_Count      0\n",
              "Website                    0\n",
              "Address                    0\n",
              "Phone_No                   0\n",
              "Latitude                   0\n",
              "Longitude                  0\n",
              "Known_For2               405\n",
              "Known_For22              841\n",
              "dtype: int64"
            ]
          },
          "metadata": {},
          "execution_count": 3
        }
      ]
    },
    {
      "cell_type": "code",
      "source": [
        "Zomato[\"Delivery_Rating\"].unique()"
      ],
      "metadata": {
        "id": "799L-IMYRVPD",
        "outputId": "3123761a-5c25-4824-e431-dd79d9cbfcc7",
        "colab": {
          "base_uri": "https://localhost:8080/"
        }
      },
      "execution_count": 4,
      "outputs": [
        {
          "output_type": "execute_result",
          "data": {
            "text/plain": [
              "array([4.4, 3.9, nan, 4.2, 3.8, 4.5, 4. , 4.1, 4.3, 3.2, 3.7, 3.4, 3.5,\n",
              "       3.6, 3.1, 2.8, 3.3, 2.9, 3. ])"
            ]
          },
          "metadata": {},
          "execution_count": 4
        }
      ]
    },
    {
      "cell_type": "code",
      "source": [
        "mean = Zomato[\"Delivery_Rating\"].mean()\n",
        "mean"
      ],
      "metadata": {
        "id": "RHwXgUNDRVKa",
        "outputId": "b37eb89b-1ca4-4c10-88ea-79d90e9f7d9c",
        "colab": {
          "base_uri": "https://localhost:8080/"
        }
      },
      "execution_count": 5,
      "outputs": [
        {
          "output_type": "execute_result",
          "data": {
            "text/plain": [
              "3.964299424184261"
            ]
          },
          "metadata": {},
          "execution_count": 5
        }
      ]
    },
    {
      "cell_type": "code",
      "source": [
        "Zomato[\"Delivery_Rating\"]=Zomato[\"Delivery_Rating\"].fillna(mean)"
      ],
      "metadata": {
        "id": "ztt0vhl8RVG1"
      },
      "execution_count": 6,
      "outputs": []
    },
    {
      "cell_type": "code",
      "source": [
        "Zomato.isna().sum()"
      ],
      "metadata": {
        "id": "MCoeCWx6RVET",
        "outputId": "f3446a58-e45e-44a4-a71e-5e838bed6dfc",
        "colab": {
          "base_uri": "https://localhost:8080/"
        }
      },
      "execution_count": 7,
      "outputs": [
        {
          "output_type": "execute_result",
          "data": {
            "text/plain": [
              "Restaurant_Name            0\n",
              "Category                   0\n",
              "Pricing_for_2              0\n",
              "Locality                   0\n",
              "Dining_Rating              0\n",
              "Dining_Review_Count        0\n",
              "Delivery_Rating            0\n",
              "Delivery_Rating_Count      0\n",
              "Website                    0\n",
              "Address                    0\n",
              "Phone_No                   0\n",
              "Latitude                   0\n",
              "Longitude                  0\n",
              "Known_For2               405\n",
              "Known_For22              841\n",
              "dtype: int64"
            ]
          },
          "metadata": {},
          "execution_count": 7
        }
      ]
    },
    {
      "cell_type": "code",
      "source": [
        "Zomato[\"Known_For2\"].unique()"
      ],
      "metadata": {
        "id": "uieuECXTRi7s",
        "outputId": "4457e266-ce6d-4f2d-8578-874c794affa9",
        "colab": {
          "base_uri": "https://localhost:8080/"
        }
      },
      "execution_count": 8,
      "outputs": [
        {
          "output_type": "execute_result",
          "data": {
            "text/plain": [
              "array([nan,\n",
              "       'Pondicherry Fish Curry, Coconut Rabdi, Sabudana Pop Corn, Chicken Pasanda, Majestic Chicken, Bhapa Doi',\n",
              "       'Royal ambiance and Mughlai cuisine, also received the \"Times Food Award 2015\" for Culinary Heritage',\n",
              "       ...,\n",
              "       'Excellent Food, Good Ambience, Courteous Staff, Awesome Food, Great Food, Ambiance',\n",
              "       'Pool, Live Music, Cafe, Environment, Good Place, Staff',\n",
              "       'Cordial Staff, Great Recommendations, Mouth Watering Food, Reasonable Prices, Quantity, Ambience'],\n",
              "      dtype=object)"
            ]
          },
          "metadata": {},
          "execution_count": 8
        }
      ]
    },
    {
      "cell_type": "code",
      "source": [
        "Zomato[\"Known_For2\"].value_counts()"
      ],
      "metadata": {
        "id": "BplqE-huRi4P",
        "outputId": "ae6722db-ffdd-4a63-b9cb-2bb56ae928a8",
        "colab": {
          "base_uri": "https://localhost:8080/"
        }
      },
      "execution_count": 9,
      "outputs": [
        {
          "output_type": "execute_result",
          "data": {
            "text/plain": [
              "Get a complimentary night, earn up to 50% of spends as points at 250+ restaurants & much more. Know more    15\n",
              "Finger Food, Continental, Mediterranean, Italian, Asian                                                      9\n",
              "Continental, Italian, Fast Food, North Indian, Beverages, Coffee                                             7\n",
              "Chinese, Asian, Continental, North Indian, Beverages                                                         2\n",
              "Butterscotch Pastry, Truffle Pastry, Chocolate Truffle Cake, Pastries, Waffle, Cakes                         2\n",
              "                                                                                                            ..\n",
              "Passion Fruit Ice Tea, Cardamom Tea, Bun Tikki, Earl Grey Tea, Rose Tea, Smoked Chicken Pasta                1\n",
              "Chicken Crostini, Blackberry Mojito, Butter Maggi, Peri Fries, Masala Tea, Hot Coffee                        1\n",
              "Chicken Thai Curry, Iced Lemon Tea, Pizza Alle Verdure, Veggie Delight, Stroganoff, Chicken Shawarama        1\n",
              "Paneer Birbali, Tomato Soup, Butter Chicken, Dal Makhani, Kadhai Paneer, Shahi Paneer                        1\n",
              "Cordial Staff, Great Recommendations, Mouth Watering Food, Reasonable Prices, Quantity, Ambience             1\n",
              "Name: Known_For2, Length: 1530, dtype: int64"
            ]
          },
          "metadata": {},
          "execution_count": 9
        }
      ]
    },
    {
      "cell_type": "code",
      "source": [
        "Zomato[\"Known_For2\"]=Zomato[\"Known_For2\"].fillna(\"Get a complimentary night, earn up to 50% of spends as points at 250+ restaurants & much more. Know more\")"
      ],
      "metadata": {
        "id": "X8_E6_-vRi1b"
      },
      "execution_count": 10,
      "outputs": []
    },
    {
      "cell_type": "code",
      "source": [
        "Zomato.isna().sum()"
      ],
      "metadata": {
        "id": "pWa0Ri8nRiyt",
        "outputId": "fa86d8a1-9918-4e23-ff7f-da2f87efa86d",
        "colab": {
          "base_uri": "https://localhost:8080/"
        }
      },
      "execution_count": 11,
      "outputs": [
        {
          "output_type": "execute_result",
          "data": {
            "text/plain": [
              "Restaurant_Name            0\n",
              "Category                   0\n",
              "Pricing_for_2              0\n",
              "Locality                   0\n",
              "Dining_Rating              0\n",
              "Dining_Review_Count        0\n",
              "Delivery_Rating            0\n",
              "Delivery_Rating_Count      0\n",
              "Website                    0\n",
              "Address                    0\n",
              "Phone_No                   0\n",
              "Latitude                   0\n",
              "Longitude                  0\n",
              "Known_For2                 0\n",
              "Known_For22              841\n",
              "dtype: int64"
            ]
          },
          "metadata": {},
          "execution_count": 11
        }
      ]
    },
    {
      "cell_type": "code",
      "source": [
        "Zomato[\"Known_For22\"].unique()"
      ],
      "metadata": {
        "id": "4NIC3niZRiwH",
        "outputId": "fb75ad1d-d49b-49bd-f989-d497428facaa",
        "colab": {
          "base_uri": "https://localhost:8080/"
        }
      },
      "execution_count": 12,
      "outputs": [
        {
          "output_type": "execute_result",
          "data": {
            "text/plain": [
              "array([nan,\n",
              "       'Artistic Decor, The Service, Natural Ambience, Fusion Menu, Serene Ambience, Fusion Food',\n",
              "       'Knowledgeable Staff, Authentic, Soothing Ambience, Dessert Menu, Pure Veg, Cozy',\n",
              "       ...,\n",
              "       'Casual Seating Area, Chinese Restaurant, Nice Crowd, Great Recommendations, Polite Staff, Perfect Presentation',\n",
              "       'Live Entertainment, Good Bartenders, Beautiful Interior, Recommend Place, Dj, Cool Place',\n",
              "       'Lip Smacking Food, Amazing Food, Owner, Good Place, Good Food, Quality'],\n",
              "      dtype=object)"
            ]
          },
          "metadata": {},
          "execution_count": 12
        }
      ]
    },
    {
      "cell_type": "code",
      "source": [
        "Zomato[\"Known_For22\"].value_counts()"
      ],
      "metadata": {
        "id": "oz98wFXuRith",
        "outputId": "6b69ece4-d54e-4307-840e-991ee41e1daa",
        "colab": {
          "base_uri": "https://localhost:8080/"
        }
      },
      "execution_count": 13,
      "outputs": [
        {
          "output_type": "execute_result",
          "data": {
            "text/plain": [
              "Pretty Decor, Perfect Presentation, Tamper Proof Packaging, Worth the Money, Packing, Food Quality                     2\n",
              "Artistic Decor, The Service, Natural Ambience, Fusion Menu, Serene Ambience, Fusion Food                               1\n",
              "Excellent Place, Great Value, Nice Service, Recommended Place, Good Quality Food, Amazing Taste                        1\n",
              "Amazing Food and Experience, Delivery Instructions, Genuine Price, Faster Delivery, Worth the Price, Food Packaging    1\n",
              "Budget Food, Good for Large Groups, Packed on Weekends, Portions, Good Taste, Main Course                              1\n",
              "                                                                                                                      ..\n",
              "Classy Decor, Wonderful Service, Chinese, Server, Excellent Food, Hospitality                                          1\n",
              "Pocket Friendly, Nice Crowd, Great Ambiance, Polite Staff, Prompt Service, Worth the Money                             1\n",
              "Happy Hour Menu, Balcony Area, Affordable Food, Outdoor Sitting, Good Vibe, Helpful Staff                              1\n",
              "Surrounding, Calm, Beautiful Place, Cafe, Owner, Decor                                                                 1\n",
              "Lip Smacking Food, Amazing Food, Owner, Good Place, Good Food, Quality                                                 1\n",
              "Name: Known_For22, Length: 1123, dtype: int64"
            ]
          },
          "metadata": {},
          "execution_count": 13
        }
      ]
    },
    {
      "cell_type": "code",
      "source": [
        "Zomato[\"Known_For22\"]=Zomato[\"Known_For22\"].fillna(\"Pretty Decor, Perfect Presentation, Tamper Proof Packaging, Worth the Money, Packing, Food Quality\")"
      ],
      "metadata": {
        "id": "JSu48qxiSVcH"
      },
      "execution_count": 14,
      "outputs": []
    },
    {
      "cell_type": "code",
      "source": [
        "Zomato.isna().sum()"
      ],
      "metadata": {
        "id": "4JOQxVffSXji",
        "outputId": "c07b5ed3-d2b7-4e37-d1ff-6ebb25bd86d8",
        "colab": {
          "base_uri": "https://localhost:8080/"
        }
      },
      "execution_count": 15,
      "outputs": [
        {
          "output_type": "execute_result",
          "data": {
            "text/plain": [
              "Restaurant_Name          0\n",
              "Category                 0\n",
              "Pricing_for_2            0\n",
              "Locality                 0\n",
              "Dining_Rating            0\n",
              "Dining_Review_Count      0\n",
              "Delivery_Rating          0\n",
              "Delivery_Rating_Count    0\n",
              "Website                  0\n",
              "Address                  0\n",
              "Phone_No                 0\n",
              "Latitude                 0\n",
              "Longitude                0\n",
              "Known_For2               0\n",
              "Known_For22              0\n",
              "dtype: int64"
            ]
          },
          "metadata": {},
          "execution_count": 15
        }
      ]
    },
    {
      "cell_type": "markdown",
      "source": [
        "Q2.Which restaurant is the best one having ratings more than 4.5 for delivery\n"
      ],
      "metadata": {
        "id": "Ws9ZK5OdGiKG"
      }
    },
    {
      "cell_type": "code",
      "source": [
        "DRC=Zomato[\"Delivery_Rating\"]\n",
        "DRC"
      ],
      "metadata": {
        "id": "VXN9t9ZsGrJz",
        "outputId": "0d981b1b-19d2-4605-a3a7-708dfe33d6cb",
        "colab": {
          "base_uri": "https://localhost:8080/"
        }
      },
      "execution_count": 40,
      "outputs": [
        {
          "output_type": "execute_result",
          "data": {
            "text/plain": [
              "0       4.400000\n",
              "1       3.900000\n",
              "2       3.964299\n",
              "3       4.400000\n",
              "4       3.964299\n",
              "          ...   \n",
              "1960    4.100000\n",
              "1961    3.964299\n",
              "1962    3.900000\n",
              "1963    3.800000\n",
              "1964    3.900000\n",
              "Name: Delivery_Rating, Length: 1965, dtype: float64"
            ]
          },
          "metadata": {},
          "execution_count": 40
        }
      ]
    },
    {
      "cell_type": "code",
      "source": [
        "DRCC=DRC>4.5\n",
        "DRCC"
      ],
      "metadata": {
        "id": "b8FKtQFjSxw5",
        "outputId": "ef8200d2-2995-4ee1-fe2d-97b0ce993999",
        "colab": {
          "base_uri": "https://localhost:8080/"
        }
      },
      "execution_count": 17,
      "outputs": [
        {
          "output_type": "execute_result",
          "data": {
            "text/plain": [
              "0       False\n",
              "1       False\n",
              "2       False\n",
              "3       False\n",
              "4       False\n",
              "        ...  \n",
              "1960    False\n",
              "1961    False\n",
              "1962    False\n",
              "1963    False\n",
              "1964    False\n",
              "Name: Delivery_Rating, Length: 1965, dtype: bool"
            ]
          },
          "metadata": {},
          "execution_count": 17
        }
      ]
    },
    {
      "cell_type": "code",
      "source": [
        "DRCC=DRCC.astype('int')\n",
        "DRCC"
      ],
      "metadata": {
        "id": "KHnsBKNESxtk",
        "outputId": "7f0b7833-24d8-4cac-aa03-3f0686a37382",
        "colab": {
          "base_uri": "https://localhost:8080/"
        }
      },
      "execution_count": 18,
      "outputs": [
        {
          "output_type": "execute_result",
          "data": {
            "text/plain": [
              "0       0\n",
              "1       0\n",
              "2       0\n",
              "3       0\n",
              "4       0\n",
              "       ..\n",
              "1960    0\n",
              "1961    0\n",
              "1962    0\n",
              "1963    0\n",
              "1964    0\n",
              "Name: Delivery_Rating, Length: 1965, dtype: int64"
            ]
          },
          "metadata": {},
          "execution_count": 18
        }
      ]
    },
    {
      "cell_type": "code",
      "source": [
        "DRCC.sum()"
      ],
      "metadata": {
        "id": "OVfBOONOSxqu",
        "outputId": "09253119-65f0-4317-91a7-8cd567a1bdd6",
        "colab": {
          "base_uri": "https://localhost:8080/"
        }
      },
      "execution_count": 19,
      "outputs": [
        {
          "output_type": "execute_result",
          "data": {
            "text/plain": [
              "0"
            ]
          },
          "metadata": {},
          "execution_count": 19
        }
      ]
    },
    {
      "cell_type": "code",
      "source": [
        "DRCC.mean()"
      ],
      "metadata": {
        "id": "V4-kH0SwSxoX",
        "outputId": "e514418d-9ce5-462b-c2bc-c85c4e40402f",
        "colab": {
          "base_uri": "https://localhost:8080/"
        }
      },
      "execution_count": 20,
      "outputs": [
        {
          "output_type": "execute_result",
          "data": {
            "text/plain": [
              "0.0"
            ]
          },
          "metadata": {},
          "execution_count": 20
        }
      ]
    },
    {
      "cell_type": "markdown",
      "source": [
        "**There are no restaurants with delivery rating more than 4.5**"
      ],
      "metadata": {
        "id": "6seENZNfTPUT"
      }
    },
    {
      "cell_type": "markdown",
      "source": [
        "\n",
        "Q3.What type of food is most preffered by the customers?"
      ],
      "metadata": {
        "id": "6zt-dhyBGrkf"
      }
    },
    {
      "cell_type": "code",
      "source": [
        "Zomato[\"Category\"].value_counts()"
      ],
      "metadata": {
        "id": "BkffosE6Gtza"
      },
      "execution_count": null,
      "outputs": []
    },
    {
      "cell_type": "code",
      "source": [
        "sns.countplot(x=Zomato[\"Category\"])"
      ],
      "metadata": {
        "id": "nPl3BZWwTh3o"
      },
      "execution_count": null,
      "outputs": []
    },
    {
      "cell_type": "code",
      "source": [
        "plt.figure(figsize=(15,10))\n",
        "plt.hist(Zomato[\"Category\"],bins=100)\n",
        "plt.xlabel(\"Category\")\n",
        "plt.ylabel(\"Frequency\")\n",
        "plt.show()"
      ],
      "metadata": {
        "id": "T9vEkcmYThxt"
      },
      "execution_count": null,
      "outputs": []
    },
    {
      "cell_type": "code",
      "source": [
        "plt.figure(figsize=(120,10))\n",
        "Zomato[\"Category\"].value_counts().plot(kind='bar')"
      ],
      "metadata": {
        "id": "MDLra2gLGtoW"
      },
      "execution_count": null,
      "outputs": []
    },
    {
      "cell_type": "markdown",
      "source": [
        "**\"North Indian\" is the most preferred food category**."
      ],
      "metadata": {
        "id": "W-5hars9TvP8"
      }
    },
    {
      "cell_type": "markdown",
      "source": [
        "Q4.How many people prefer delivery rather than dining ?"
      ],
      "metadata": {
        "id": "h3foQEmEGvxQ"
      }
    },
    {
      "cell_type": "code",
      "source": [
        "DRC=Zomato['Delivery_Rating_Count']"
      ],
      "metadata": {
        "id": "1Ph57fW1Gx5m"
      },
      "execution_count": 21,
      "outputs": []
    },
    {
      "cell_type": "code",
      "source": [
        "DiRC=Zomato['Dining_Review_Count']"
      ],
      "metadata": {
        "id": "bpZjm6WRGxv5"
      },
      "execution_count": 22,
      "outputs": []
    },
    {
      "cell_type": "code",
      "source": [
        "Arr = DRC-DiRC\n",
        "Arr"
      ],
      "metadata": {
        "id": "1sKLWqCbT60p",
        "outputId": "9b5a6607-b5ea-4ea9-8c87-33f30bc52438",
        "colab": {
          "base_uri": "https://localhost:8080/"
        }
      },
      "execution_count": 23,
      "outputs": [
        {
          "output_type": "execute_result",
          "data": {
            "text/plain": [
              "0        -41\n",
              "1      -3711\n",
              "2      -1371\n",
              "3      -1398\n",
              "4      -6487\n",
              "        ... \n",
              "1960     362\n",
              "1961    -113\n",
              "1962    2661\n",
              "1963      76\n",
              "1964    5031\n",
              "Length: 1965, dtype: int64"
            ]
          },
          "metadata": {},
          "execution_count": 23
        }
      ]
    },
    {
      "cell_type": "code",
      "source": [
        "Arr.sum()"
      ],
      "metadata": {
        "id": "Aph8finyT-Vv",
        "outputId": "364d80fd-2862-42a7-e5bb-711ae8feab9d",
        "colab": {
          "base_uri": "https://localhost:8080/"
        }
      },
      "execution_count": 24,
      "outputs": [
        {
          "output_type": "execute_result",
          "data": {
            "text/plain": [
              "4534427"
            ]
          },
          "metadata": {},
          "execution_count": 24
        }
      ]
    },
    {
      "cell_type": "markdown",
      "source": [
        "**\"4534427\" no. of people prefer delivery over dining.**"
      ],
      "metadata": {
        "id": "hMyUtM3AUEv0"
      }
    },
    {
      "cell_type": "markdown",
      "source": [
        "Q5.Which restaurant is the best one having ratings more than 4.5 for dining?"
      ],
      "metadata": {
        "id": "q6oUmSnmGynu"
      }
    },
    {
      "cell_type": "code",
      "source": [
        "Zomato"
      ],
      "metadata": {
        "id": "VBoWONZkE5-t",
        "outputId": "4a4f0211-30fe-4eff-acb1-ac0bae94e529",
        "colab": {
          "base_uri": "https://localhost:8080/",
          "height": 1000
        }
      },
      "execution_count": 25,
      "outputs": [
        {
          "output_type": "execute_result",
          "data": {
            "text/plain": [
              "             Restaurant_Name  \\\n",
              "0                   Rustom's   \n",
              "1                  Cafe Lota   \n",
              "2     Dum-Pukht - ITC Maurya   \n",
              "3                Burma Burma   \n",
              "4              The Big Chill   \n",
              "...                      ...   \n",
              "1960          Bablu Chic-Inn   \n",
              "1961               Kovilakam   \n",
              "1962        Krips Restaurant   \n",
              "1963                Cafe 147   \n",
              "1964                Pizzasia   \n",
              "\n",
              "                                               Category  Pricing_for_2  \\\n",
              "0     Parsi, Street Food, North Indian, Desserts, Be...           2100   \n",
              "1           Cafe, South Indian, North Indian, Beverages           1200   \n",
              "2                       Mughlai, North Indian, Desserts           5000   \n",
              "3           Asian, Burmese, Bubble Tea, Desserts, Salad           1600   \n",
              "4                        Continental, American, Italian           1500   \n",
              "...                                                 ...            ...   \n",
              "1960          Mughlai, North Indian, Chinese, Fast Food            500   \n",
              "1961                                       South Indian            350   \n",
              "1962                     North Indian, Chinese, Mughlai            900   \n",
              "1963  Cafe, North Indian, Chinese, Kashmiri, Rolls, ...            800   \n",
              "1964                        Pizza, Fast Food, Beverages            500   \n",
              "\n",
              "                                         Locality  Dining_Rating  \\\n",
              "0                                  ITO, New Delhi            4.9   \n",
              "1                       Pragati Maidan, New Delhi            4.9   \n",
              "2             ITC Maurya, Chanakyapuri, New Delhi            4.9   \n",
              "3              Cyber Hub, DLF Cyber City, Gurgaon            4.9   \n",
              "4                          Khan Market, New Delhi            4.9   \n",
              "...                                           ...            ...   \n",
              "1960               Ashok Vihar Phase 3, New Delhi            3.9   \n",
              "1961                    Dilshad Garden, New Delhi            3.9   \n",
              "1962   Basant Lok Market, Vasant Vihar, New Delhi            3.9   \n",
              "1963                      Sainik Farms, New Delhi            3.9   \n",
              "1964                   Gaur City 2, Greater Noida            3.9   \n",
              "\n",
              "      Dining_Review_Count  Delivery_Rating  Delivery_Rating_Count  \\\n",
              "0                    1885         4.400000                   1844   \n",
              "1                    3748         3.900000                     37   \n",
              "2                    1371         3.964299                      0   \n",
              "3                    2636         4.400000                   1238   \n",
              "4                    6487         3.964299                      0   \n",
              "...                   ...              ...                    ...   \n",
              "1960                  183         4.100000                    545   \n",
              "1961                  114         3.964299                      1   \n",
              "1962                  316         3.900000                   2977   \n",
              "1963                  120         3.800000                    196   \n",
              "1964                  165         3.900000                   5196   \n",
              "\n",
              "                                                Website  \\\n",
              "0      https://www.zomato.com/ncr/rustoms-ito-new-delhi   \n",
              "1     https://www.zomato.com/ncr/cafe-lota-pragati-m...   \n",
              "2     https://www.zomato.com/ncr/dum-pukht-itc-maury...   \n",
              "3     https://www.zomato.com/ncr/burma-burma-dlf-cyb...   \n",
              "4     https://www.zomato.com/ncr/the-big-chill-khan-...   \n",
              "...                                                 ...   \n",
              "1960  https://www.zomato.com/ncr/bablu-chic-inn-asho...   \n",
              "1961  https://www.zomato.com/ncr/kovilakam-dilshad-g...   \n",
              "1962  https://www.zomato.com/ncr/krips-restaurant-va...   \n",
              "1963  https://www.zomato.com/ncr/cafe-147-sainik-far...   \n",
              "1964  https://www.zomato.com/ncr/pizzasia-gaur-city-...   \n",
              "\n",
              "                                                Address     Phone_No  \\\n",
              "0     Delhi Parsi Anjuman, LNJP Colony, Bahadur Shah...   9.1991E+11   \n",
              "1     National Crafts Museum, Gate 2, Bhairon Marg, ...  9.17839E+11   \n",
              "2                   ITC Maurya, Chanakyapuri, New Delhi  9.11146E+11   \n",
              "3     Shop 6, Ground Floor, Building 8, Tower C, Cyb...  9.11244E+11   \n",
              "4                          68-A, Khan Market, New Delhi  9.11142E+11   \n",
              "...                                                 ...          ...   \n",
              "1960  Shop 9, Pocket B, DDA Market, Ashok Vihar Phas...      9.2E+11   \n",
              "1961  F-1, Lower Ground 2, Mrignaini Chowk, Dilshad ...  9.19654E+11   \n",
              "1962  59, Community Centre, Basant Lok Market, Vasan...  9.11141E+11   \n",
              "1963  Shop A1/7, Ground Floor, Main IGNOU Road, Neb ...  9.19812E+11   \n",
              "1964  Shop 14, Ground Floor, Bhawishya India Tower, ...  9.18861E+11   \n",
              "\n",
              "       Latitude  Longitude                                         Known_For2  \\\n",
              "0     28.638167  77.240472  Get a complimentary night, earn up to 50% of s...   \n",
              "1     28.613429  77.242471  Pondicherry Fish Curry, Coconut Rabdi, Sabudan...   \n",
              "2     28.598200  77.173661  Royal ambiance and Mughlai cuisine, also recei...   \n",
              "3     28.494464  77.088532  Coconut Milk Dessert, Honey Caviar, Kaffir Lim...   \n",
              "4     28.600350  77.227493  Irish Cream Tiramisu, Penne Vodka, Mississippi...   \n",
              "...         ...        ...                                                ...   \n",
              "1960  28.692473  77.178004  Great Recommendations, Tamper Proof Packaging,...   \n",
              "1961  28.684101  77.326725  Kerala Parotta, Roasted Chicken, Chicken Curry...   \n",
              "1962  28.557310  77.163943  Excellent Food, Good Ambience, Courteous Staff...   \n",
              "1963  28.510338  77.202056  Pool, Live Music, Cafe, Environment, Good Plac...   \n",
              "1964  28.618250  77.427417  Cordial Staff, Great Recommendations, Mouth Wa...   \n",
              "\n",
              "                                            Known_For22  \n",
              "0     Pretty Decor, Perfect Presentation, Tamper Pro...  \n",
              "1     Artistic Decor, The Service, Natural Ambience,...  \n",
              "2     Pretty Decor, Perfect Presentation, Tamper Pro...  \n",
              "3     Knowledgeable Staff, Authentic, Soothing Ambie...  \n",
              "4     Retro Ambience, Yummy Desserts, Big Portions, ...  \n",
              "...                                                 ...  \n",
              "1960  Pretty Decor, Perfect Presentation, Tamper Pro...  \n",
              "1961  Lip Smacking Food, Amazing Food, Owner, Good P...  \n",
              "1962  Pretty Decor, Perfect Presentation, Tamper Pro...  \n",
              "1963  Pretty Decor, Perfect Presentation, Tamper Pro...  \n",
              "1964  Pretty Decor, Perfect Presentation, Tamper Pro...  \n",
              "\n",
              "[1965 rows x 15 columns]"
            ],
            "text/html": [
              "\n",
              "  <div id=\"df-ac253503-d0a3-4d06-b8c4-248f221ab737\" class=\"colab-df-container\">\n",
              "    <div>\n",
              "<style scoped>\n",
              "    .dataframe tbody tr th:only-of-type {\n",
              "        vertical-align: middle;\n",
              "    }\n",
              "\n",
              "    .dataframe tbody tr th {\n",
              "        vertical-align: top;\n",
              "    }\n",
              "\n",
              "    .dataframe thead th {\n",
              "        text-align: right;\n",
              "    }\n",
              "</style>\n",
              "<table border=\"1\" class=\"dataframe\">\n",
              "  <thead>\n",
              "    <tr style=\"text-align: right;\">\n",
              "      <th></th>\n",
              "      <th>Restaurant_Name</th>\n",
              "      <th>Category</th>\n",
              "      <th>Pricing_for_2</th>\n",
              "      <th>Locality</th>\n",
              "      <th>Dining_Rating</th>\n",
              "      <th>Dining_Review_Count</th>\n",
              "      <th>Delivery_Rating</th>\n",
              "      <th>Delivery_Rating_Count</th>\n",
              "      <th>Website</th>\n",
              "      <th>Address</th>\n",
              "      <th>Phone_No</th>\n",
              "      <th>Latitude</th>\n",
              "      <th>Longitude</th>\n",
              "      <th>Known_For2</th>\n",
              "      <th>Known_For22</th>\n",
              "    </tr>\n",
              "  </thead>\n",
              "  <tbody>\n",
              "    <tr>\n",
              "      <th>0</th>\n",
              "      <td>Rustom's</td>\n",
              "      <td>Parsi, Street Food, North Indian, Desserts, Be...</td>\n",
              "      <td>2100</td>\n",
              "      <td>ITO, New Delhi</td>\n",
              "      <td>4.9</td>\n",
              "      <td>1885</td>\n",
              "      <td>4.400000</td>\n",
              "      <td>1844</td>\n",
              "      <td>https://www.zomato.com/ncr/rustoms-ito-new-delhi</td>\n",
              "      <td>Delhi Parsi Anjuman, LNJP Colony, Bahadur Shah...</td>\n",
              "      <td>9.1991E+11</td>\n",
              "      <td>28.638167</td>\n",
              "      <td>77.240472</td>\n",
              "      <td>Get a complimentary night, earn up to 50% of s...</td>\n",
              "      <td>Pretty Decor, Perfect Presentation, Tamper Pro...</td>\n",
              "    </tr>\n",
              "    <tr>\n",
              "      <th>1</th>\n",
              "      <td>Cafe Lota</td>\n",
              "      <td>Cafe, South Indian, North Indian, Beverages</td>\n",
              "      <td>1200</td>\n",
              "      <td>Pragati Maidan, New Delhi</td>\n",
              "      <td>4.9</td>\n",
              "      <td>3748</td>\n",
              "      <td>3.900000</td>\n",
              "      <td>37</td>\n",
              "      <td>https://www.zomato.com/ncr/cafe-lota-pragati-m...</td>\n",
              "      <td>National Crafts Museum, Gate 2, Bhairon Marg, ...</td>\n",
              "      <td>9.17839E+11</td>\n",
              "      <td>28.613429</td>\n",
              "      <td>77.242471</td>\n",
              "      <td>Pondicherry Fish Curry, Coconut Rabdi, Sabudan...</td>\n",
              "      <td>Artistic Decor, The Service, Natural Ambience,...</td>\n",
              "    </tr>\n",
              "    <tr>\n",
              "      <th>2</th>\n",
              "      <td>Dum-Pukht - ITC Maurya</td>\n",
              "      <td>Mughlai, North Indian, Desserts</td>\n",
              "      <td>5000</td>\n",
              "      <td>ITC Maurya, Chanakyapuri, New Delhi</td>\n",
              "      <td>4.9</td>\n",
              "      <td>1371</td>\n",
              "      <td>3.964299</td>\n",
              "      <td>0</td>\n",
              "      <td>https://www.zomato.com/ncr/dum-pukht-itc-maury...</td>\n",
              "      <td>ITC Maurya, Chanakyapuri, New Delhi</td>\n",
              "      <td>9.11146E+11</td>\n",
              "      <td>28.598200</td>\n",
              "      <td>77.173661</td>\n",
              "      <td>Royal ambiance and Mughlai cuisine, also recei...</td>\n",
              "      <td>Pretty Decor, Perfect Presentation, Tamper Pro...</td>\n",
              "    </tr>\n",
              "    <tr>\n",
              "      <th>3</th>\n",
              "      <td>Burma Burma</td>\n",
              "      <td>Asian, Burmese, Bubble Tea, Desserts, Salad</td>\n",
              "      <td>1600</td>\n",
              "      <td>Cyber Hub, DLF Cyber City, Gurgaon</td>\n",
              "      <td>4.9</td>\n",
              "      <td>2636</td>\n",
              "      <td>4.400000</td>\n",
              "      <td>1238</td>\n",
              "      <td>https://www.zomato.com/ncr/burma-burma-dlf-cyb...</td>\n",
              "      <td>Shop 6, Ground Floor, Building 8, Tower C, Cyb...</td>\n",
              "      <td>9.11244E+11</td>\n",
              "      <td>28.494464</td>\n",
              "      <td>77.088532</td>\n",
              "      <td>Coconut Milk Dessert, Honey Caviar, Kaffir Lim...</td>\n",
              "      <td>Knowledgeable Staff, Authentic, Soothing Ambie...</td>\n",
              "    </tr>\n",
              "    <tr>\n",
              "      <th>4</th>\n",
              "      <td>The Big Chill</td>\n",
              "      <td>Continental, American, Italian</td>\n",
              "      <td>1500</td>\n",
              "      <td>Khan Market, New Delhi</td>\n",
              "      <td>4.9</td>\n",
              "      <td>6487</td>\n",
              "      <td>3.964299</td>\n",
              "      <td>0</td>\n",
              "      <td>https://www.zomato.com/ncr/the-big-chill-khan-...</td>\n",
              "      <td>68-A, Khan Market, New Delhi</td>\n",
              "      <td>9.11142E+11</td>\n",
              "      <td>28.600350</td>\n",
              "      <td>77.227493</td>\n",
              "      <td>Irish Cream Tiramisu, Penne Vodka, Mississippi...</td>\n",
              "      <td>Retro Ambience, Yummy Desserts, Big Portions, ...</td>\n",
              "    </tr>\n",
              "    <tr>\n",
              "      <th>...</th>\n",
              "      <td>...</td>\n",
              "      <td>...</td>\n",
              "      <td>...</td>\n",
              "      <td>...</td>\n",
              "      <td>...</td>\n",
              "      <td>...</td>\n",
              "      <td>...</td>\n",
              "      <td>...</td>\n",
              "      <td>...</td>\n",
              "      <td>...</td>\n",
              "      <td>...</td>\n",
              "      <td>...</td>\n",
              "      <td>...</td>\n",
              "      <td>...</td>\n",
              "      <td>...</td>\n",
              "    </tr>\n",
              "    <tr>\n",
              "      <th>1960</th>\n",
              "      <td>Bablu Chic-Inn</td>\n",
              "      <td>Mughlai, North Indian, Chinese, Fast Food</td>\n",
              "      <td>500</td>\n",
              "      <td>Ashok Vihar Phase 3, New Delhi</td>\n",
              "      <td>3.9</td>\n",
              "      <td>183</td>\n",
              "      <td>4.100000</td>\n",
              "      <td>545</td>\n",
              "      <td>https://www.zomato.com/ncr/bablu-chic-inn-asho...</td>\n",
              "      <td>Shop 9, Pocket B, DDA Market, Ashok Vihar Phas...</td>\n",
              "      <td>9.2E+11</td>\n",
              "      <td>28.692473</td>\n",
              "      <td>77.178004</td>\n",
              "      <td>Great Recommendations, Tamper Proof Packaging,...</td>\n",
              "      <td>Pretty Decor, Perfect Presentation, Tamper Pro...</td>\n",
              "    </tr>\n",
              "    <tr>\n",
              "      <th>1961</th>\n",
              "      <td>Kovilakam</td>\n",
              "      <td>South Indian</td>\n",
              "      <td>350</td>\n",
              "      <td>Dilshad Garden, New Delhi</td>\n",
              "      <td>3.9</td>\n",
              "      <td>114</td>\n",
              "      <td>3.964299</td>\n",
              "      <td>1</td>\n",
              "      <td>https://www.zomato.com/ncr/kovilakam-dilshad-g...</td>\n",
              "      <td>F-1, Lower Ground 2, Mrignaini Chowk, Dilshad ...</td>\n",
              "      <td>9.19654E+11</td>\n",
              "      <td>28.684101</td>\n",
              "      <td>77.326725</td>\n",
              "      <td>Kerala Parotta, Roasted Chicken, Chicken Curry...</td>\n",
              "      <td>Lip Smacking Food, Amazing Food, Owner, Good P...</td>\n",
              "    </tr>\n",
              "    <tr>\n",
              "      <th>1962</th>\n",
              "      <td>Krips Restaurant</td>\n",
              "      <td>North Indian, Chinese, Mughlai</td>\n",
              "      <td>900</td>\n",
              "      <td>Basant Lok Market, Vasant Vihar, New Delhi</td>\n",
              "      <td>3.9</td>\n",
              "      <td>316</td>\n",
              "      <td>3.900000</td>\n",
              "      <td>2977</td>\n",
              "      <td>https://www.zomato.com/ncr/krips-restaurant-va...</td>\n",
              "      <td>59, Community Centre, Basant Lok Market, Vasan...</td>\n",
              "      <td>9.11141E+11</td>\n",
              "      <td>28.557310</td>\n",
              "      <td>77.163943</td>\n",
              "      <td>Excellent Food, Good Ambience, Courteous Staff...</td>\n",
              "      <td>Pretty Decor, Perfect Presentation, Tamper Pro...</td>\n",
              "    </tr>\n",
              "    <tr>\n",
              "      <th>1963</th>\n",
              "      <td>Cafe 147</td>\n",
              "      <td>Cafe, North Indian, Chinese, Kashmiri, Rolls, ...</td>\n",
              "      <td>800</td>\n",
              "      <td>Sainik Farms, New Delhi</td>\n",
              "      <td>3.9</td>\n",
              "      <td>120</td>\n",
              "      <td>3.800000</td>\n",
              "      <td>196</td>\n",
              "      <td>https://www.zomato.com/ncr/cafe-147-sainik-far...</td>\n",
              "      <td>Shop A1/7, Ground Floor, Main IGNOU Road, Neb ...</td>\n",
              "      <td>9.19812E+11</td>\n",
              "      <td>28.510338</td>\n",
              "      <td>77.202056</td>\n",
              "      <td>Pool, Live Music, Cafe, Environment, Good Plac...</td>\n",
              "      <td>Pretty Decor, Perfect Presentation, Tamper Pro...</td>\n",
              "    </tr>\n",
              "    <tr>\n",
              "      <th>1964</th>\n",
              "      <td>Pizzasia</td>\n",
              "      <td>Pizza, Fast Food, Beverages</td>\n",
              "      <td>500</td>\n",
              "      <td>Gaur City 2, Greater Noida</td>\n",
              "      <td>3.9</td>\n",
              "      <td>165</td>\n",
              "      <td>3.900000</td>\n",
              "      <td>5196</td>\n",
              "      <td>https://www.zomato.com/ncr/pizzasia-gaur-city-...</td>\n",
              "      <td>Shop 14, Ground Floor, Bhawishya India Tower, ...</td>\n",
              "      <td>9.18861E+11</td>\n",
              "      <td>28.618250</td>\n",
              "      <td>77.427417</td>\n",
              "      <td>Cordial Staff, Great Recommendations, Mouth Wa...</td>\n",
              "      <td>Pretty Decor, Perfect Presentation, Tamper Pro...</td>\n",
              "    </tr>\n",
              "  </tbody>\n",
              "</table>\n",
              "<p>1965 rows × 15 columns</p>\n",
              "</div>\n",
              "    <div class=\"colab-df-buttons\">\n",
              "\n",
              "  <div class=\"colab-df-container\">\n",
              "    <button class=\"colab-df-convert\" onclick=\"convertToInteractive('df-ac253503-d0a3-4d06-b8c4-248f221ab737')\"\n",
              "            title=\"Convert this dataframe to an interactive table.\"\n",
              "            style=\"display:none;\">\n",
              "\n",
              "  <svg xmlns=\"http://www.w3.org/2000/svg\" height=\"24px\" viewBox=\"0 -960 960 960\">\n",
              "    <path d=\"M120-120v-720h720v720H120Zm60-500h600v-160H180v160Zm220 220h160v-160H400v160Zm0 220h160v-160H400v160ZM180-400h160v-160H180v160Zm440 0h160v-160H620v160ZM180-180h160v-160H180v160Zm440 0h160v-160H620v160Z\"/>\n",
              "  </svg>\n",
              "    </button>\n",
              "\n",
              "  <style>\n",
              "    .colab-df-container {\n",
              "      display:flex;\n",
              "      gap: 12px;\n",
              "    }\n",
              "\n",
              "    .colab-df-convert {\n",
              "      background-color: #E8F0FE;\n",
              "      border: none;\n",
              "      border-radius: 50%;\n",
              "      cursor: pointer;\n",
              "      display: none;\n",
              "      fill: #1967D2;\n",
              "      height: 32px;\n",
              "      padding: 0 0 0 0;\n",
              "      width: 32px;\n",
              "    }\n",
              "\n",
              "    .colab-df-convert:hover {\n",
              "      background-color: #E2EBFA;\n",
              "      box-shadow: 0px 1px 2px rgba(60, 64, 67, 0.3), 0px 1px 3px 1px rgba(60, 64, 67, 0.15);\n",
              "      fill: #174EA6;\n",
              "    }\n",
              "\n",
              "    .colab-df-buttons div {\n",
              "      margin-bottom: 4px;\n",
              "    }\n",
              "\n",
              "    [theme=dark] .colab-df-convert {\n",
              "      background-color: #3B4455;\n",
              "      fill: #D2E3FC;\n",
              "    }\n",
              "\n",
              "    [theme=dark] .colab-df-convert:hover {\n",
              "      background-color: #434B5C;\n",
              "      box-shadow: 0px 1px 3px 1px rgba(0, 0, 0, 0.15);\n",
              "      filter: drop-shadow(0px 1px 2px rgba(0, 0, 0, 0.3));\n",
              "      fill: #FFFFFF;\n",
              "    }\n",
              "  </style>\n",
              "\n",
              "    <script>\n",
              "      const buttonEl =\n",
              "        document.querySelector('#df-ac253503-d0a3-4d06-b8c4-248f221ab737 button.colab-df-convert');\n",
              "      buttonEl.style.display =\n",
              "        google.colab.kernel.accessAllowed ? 'block' : 'none';\n",
              "\n",
              "      async function convertToInteractive(key) {\n",
              "        const element = document.querySelector('#df-ac253503-d0a3-4d06-b8c4-248f221ab737');\n",
              "        const dataTable =\n",
              "          await google.colab.kernel.invokeFunction('convertToInteractive',\n",
              "                                                    [key], {});\n",
              "        if (!dataTable) return;\n",
              "\n",
              "        const docLinkHtml = 'Like what you see? Visit the ' +\n",
              "          '<a target=\"_blank\" href=https://colab.research.google.com/notebooks/data_table.ipynb>data table notebook</a>'\n",
              "          + ' to learn more about interactive tables.';\n",
              "        element.innerHTML = '';\n",
              "        dataTable['output_type'] = 'display_data';\n",
              "        await google.colab.output.renderOutput(dataTable, element);\n",
              "        const docLink = document.createElement('div');\n",
              "        docLink.innerHTML = docLinkHtml;\n",
              "        element.appendChild(docLink);\n",
              "      }\n",
              "    </script>\n",
              "  </div>\n",
              "\n",
              "\n",
              "<div id=\"df-67acfca6-fa83-4bbd-9ef3-f99ebe1f4af5\">\n",
              "  <button class=\"colab-df-quickchart\" onclick=\"quickchart('df-67acfca6-fa83-4bbd-9ef3-f99ebe1f4af5')\"\n",
              "            title=\"Suggest charts.\"\n",
              "            style=\"display:none;\">\n",
              "\n",
              "<svg xmlns=\"http://www.w3.org/2000/svg\" height=\"24px\"viewBox=\"0 0 24 24\"\n",
              "     width=\"24px\">\n",
              "    <g>\n",
              "        <path d=\"M19 3H5c-1.1 0-2 .9-2 2v14c0 1.1.9 2 2 2h14c1.1 0 2-.9 2-2V5c0-1.1-.9-2-2-2zM9 17H7v-7h2v7zm4 0h-2V7h2v10zm4 0h-2v-4h2v4z\"/>\n",
              "    </g>\n",
              "</svg>\n",
              "  </button>\n",
              "\n",
              "<style>\n",
              "  .colab-df-quickchart {\n",
              "      --bg-color: #E8F0FE;\n",
              "      --fill-color: #1967D2;\n",
              "      --hover-bg-color: #E2EBFA;\n",
              "      --hover-fill-color: #174EA6;\n",
              "      --disabled-fill-color: #AAA;\n",
              "      --disabled-bg-color: #DDD;\n",
              "  }\n",
              "\n",
              "  [theme=dark] .colab-df-quickchart {\n",
              "      --bg-color: #3B4455;\n",
              "      --fill-color: #D2E3FC;\n",
              "      --hover-bg-color: #434B5C;\n",
              "      --hover-fill-color: #FFFFFF;\n",
              "      --disabled-bg-color: #3B4455;\n",
              "      --disabled-fill-color: #666;\n",
              "  }\n",
              "\n",
              "  .colab-df-quickchart {\n",
              "    background-color: var(--bg-color);\n",
              "    border: none;\n",
              "    border-radius: 50%;\n",
              "    cursor: pointer;\n",
              "    display: none;\n",
              "    fill: var(--fill-color);\n",
              "    height: 32px;\n",
              "    padding: 0;\n",
              "    width: 32px;\n",
              "  }\n",
              "\n",
              "  .colab-df-quickchart:hover {\n",
              "    background-color: var(--hover-bg-color);\n",
              "    box-shadow: 0 1px 2px rgba(60, 64, 67, 0.3), 0 1px 3px 1px rgba(60, 64, 67, 0.15);\n",
              "    fill: var(--button-hover-fill-color);\n",
              "  }\n",
              "\n",
              "  .colab-df-quickchart-complete:disabled,\n",
              "  .colab-df-quickchart-complete:disabled:hover {\n",
              "    background-color: var(--disabled-bg-color);\n",
              "    fill: var(--disabled-fill-color);\n",
              "    box-shadow: none;\n",
              "  }\n",
              "\n",
              "  .colab-df-spinner {\n",
              "    border: 2px solid var(--fill-color);\n",
              "    border-color: transparent;\n",
              "    border-bottom-color: var(--fill-color);\n",
              "    animation:\n",
              "      spin 1s steps(1) infinite;\n",
              "  }\n",
              "\n",
              "  @keyframes spin {\n",
              "    0% {\n",
              "      border-color: transparent;\n",
              "      border-bottom-color: var(--fill-color);\n",
              "      border-left-color: var(--fill-color);\n",
              "    }\n",
              "    20% {\n",
              "      border-color: transparent;\n",
              "      border-left-color: var(--fill-color);\n",
              "      border-top-color: var(--fill-color);\n",
              "    }\n",
              "    30% {\n",
              "      border-color: transparent;\n",
              "      border-left-color: var(--fill-color);\n",
              "      border-top-color: var(--fill-color);\n",
              "      border-right-color: var(--fill-color);\n",
              "    }\n",
              "    40% {\n",
              "      border-color: transparent;\n",
              "      border-right-color: var(--fill-color);\n",
              "      border-top-color: var(--fill-color);\n",
              "    }\n",
              "    60% {\n",
              "      border-color: transparent;\n",
              "      border-right-color: var(--fill-color);\n",
              "    }\n",
              "    80% {\n",
              "      border-color: transparent;\n",
              "      border-right-color: var(--fill-color);\n",
              "      border-bottom-color: var(--fill-color);\n",
              "    }\n",
              "    90% {\n",
              "      border-color: transparent;\n",
              "      border-bottom-color: var(--fill-color);\n",
              "    }\n",
              "  }\n",
              "</style>\n",
              "\n",
              "  <script>\n",
              "    async function quickchart(key) {\n",
              "      const quickchartButtonEl =\n",
              "        document.querySelector('#' + key + ' button');\n",
              "      quickchartButtonEl.disabled = true;  // To prevent multiple clicks.\n",
              "      quickchartButtonEl.classList.add('colab-df-spinner');\n",
              "      try {\n",
              "        const charts = await google.colab.kernel.invokeFunction(\n",
              "            'suggestCharts', [key], {});\n",
              "      } catch (error) {\n",
              "        console.error('Error during call to suggestCharts:', error);\n",
              "      }\n",
              "      quickchartButtonEl.classList.remove('colab-df-spinner');\n",
              "      quickchartButtonEl.classList.add('colab-df-quickchart-complete');\n",
              "    }\n",
              "    (() => {\n",
              "      let quickchartButtonEl =\n",
              "        document.querySelector('#df-67acfca6-fa83-4bbd-9ef3-f99ebe1f4af5 button');\n",
              "      quickchartButtonEl.style.display =\n",
              "        google.colab.kernel.accessAllowed ? 'block' : 'none';\n",
              "    })();\n",
              "  </script>\n",
              "</div>\n",
              "    </div>\n",
              "  </div>\n"
            ]
          },
          "metadata": {},
          "execution_count": 25
        }
      ]
    },
    {
      "cell_type": "code",
      "source": [
        "DC=Zomato[\"Dining_Rating\"]\n",
        "max_rating = DC.max()\n",
        "print(max_rating)"
      ],
      "metadata": {
        "id": "jT6YqVFtHAmm",
        "outputId": "0e74e355-4b46-49a3-f886-734d2d2d6de4",
        "colab": {
          "base_uri": "https://localhost:8080/"
        }
      },
      "execution_count": 28,
      "outputs": [
        {
          "output_type": "stream",
          "name": "stdout",
          "text": [
            "4.9\n"
          ]
        }
      ]
    },
    {
      "cell_type": "code",
      "source": [
        "zomato_max_rating = Zomato[Zomato['Dining_Rating'] == max_rating]\n",
        "zomato_max_rating.head()"
      ],
      "metadata": {
        "id": "64hYEULsVzLv",
        "outputId": "baf56c11-09db-4127-a7f6-6c65c5696dee",
        "colab": {
          "base_uri": "https://localhost:8080/",
          "height": 608
        }
      },
      "execution_count": 32,
      "outputs": [
        {
          "output_type": "execute_result",
          "data": {
            "text/plain": [
              "          Restaurant_Name                                           Category  \\\n",
              "0                Rustom's  Parsi, Street Food, North Indian, Desserts, Be...   \n",
              "1               Cafe Lota        Cafe, South Indian, North Indian, Beverages   \n",
              "2  Dum-Pukht - ITC Maurya                    Mughlai, North Indian, Desserts   \n",
              "3             Burma Burma        Asian, Burmese, Bubble Tea, Desserts, Salad   \n",
              "4           The Big Chill                     Continental, American, Italian   \n",
              "\n",
              "   Pricing_for_2                              Locality  Dining_Rating  \\\n",
              "0           2100                        ITO, New Delhi            4.9   \n",
              "1           1200             Pragati Maidan, New Delhi            4.9   \n",
              "2           5000   ITC Maurya, Chanakyapuri, New Delhi            4.9   \n",
              "3           1600    Cyber Hub, DLF Cyber City, Gurgaon            4.9   \n",
              "4           1500                Khan Market, New Delhi            4.9   \n",
              "\n",
              "   Dining_Review_Count  Delivery_Rating  Delivery_Rating_Count  \\\n",
              "0                 1885         4.400000                   1844   \n",
              "1                 3748         3.900000                     37   \n",
              "2                 1371         3.964299                      0   \n",
              "3                 2636         4.400000                   1238   \n",
              "4                 6487         3.964299                      0   \n",
              "\n",
              "                                             Website  \\\n",
              "0   https://www.zomato.com/ncr/rustoms-ito-new-delhi   \n",
              "1  https://www.zomato.com/ncr/cafe-lota-pragati-m...   \n",
              "2  https://www.zomato.com/ncr/dum-pukht-itc-maury...   \n",
              "3  https://www.zomato.com/ncr/burma-burma-dlf-cyb...   \n",
              "4  https://www.zomato.com/ncr/the-big-chill-khan-...   \n",
              "\n",
              "                                             Address     Phone_No   Latitude  \\\n",
              "0  Delhi Parsi Anjuman, LNJP Colony, Bahadur Shah...   9.1991E+11  28.638167   \n",
              "1  National Crafts Museum, Gate 2, Bhairon Marg, ...  9.17839E+11  28.613429   \n",
              "2                ITC Maurya, Chanakyapuri, New Delhi  9.11146E+11  28.598200   \n",
              "3  Shop 6, Ground Floor, Building 8, Tower C, Cyb...  9.11244E+11  28.494464   \n",
              "4                       68-A, Khan Market, New Delhi  9.11142E+11  28.600350   \n",
              "\n",
              "   Longitude                                         Known_For2  \\\n",
              "0  77.240472  Get a complimentary night, earn up to 50% of s...   \n",
              "1  77.242471  Pondicherry Fish Curry, Coconut Rabdi, Sabudan...   \n",
              "2  77.173661  Royal ambiance and Mughlai cuisine, also recei...   \n",
              "3  77.088532  Coconut Milk Dessert, Honey Caviar, Kaffir Lim...   \n",
              "4  77.227493  Irish Cream Tiramisu, Penne Vodka, Mississippi...   \n",
              "\n",
              "                                         Known_For22  \n",
              "0  Pretty Decor, Perfect Presentation, Tamper Pro...  \n",
              "1  Artistic Decor, The Service, Natural Ambience,...  \n",
              "2  Pretty Decor, Perfect Presentation, Tamper Pro...  \n",
              "3  Knowledgeable Staff, Authentic, Soothing Ambie...  \n",
              "4  Retro Ambience, Yummy Desserts, Big Portions, ...  "
            ],
            "text/html": [
              "\n",
              "  <div id=\"df-4159d365-c4a0-4cb2-9224-a810490aa44a\" class=\"colab-df-container\">\n",
              "    <div>\n",
              "<style scoped>\n",
              "    .dataframe tbody tr th:only-of-type {\n",
              "        vertical-align: middle;\n",
              "    }\n",
              "\n",
              "    .dataframe tbody tr th {\n",
              "        vertical-align: top;\n",
              "    }\n",
              "\n",
              "    .dataframe thead th {\n",
              "        text-align: right;\n",
              "    }\n",
              "</style>\n",
              "<table border=\"1\" class=\"dataframe\">\n",
              "  <thead>\n",
              "    <tr style=\"text-align: right;\">\n",
              "      <th></th>\n",
              "      <th>Restaurant_Name</th>\n",
              "      <th>Category</th>\n",
              "      <th>Pricing_for_2</th>\n",
              "      <th>Locality</th>\n",
              "      <th>Dining_Rating</th>\n",
              "      <th>Dining_Review_Count</th>\n",
              "      <th>Delivery_Rating</th>\n",
              "      <th>Delivery_Rating_Count</th>\n",
              "      <th>Website</th>\n",
              "      <th>Address</th>\n",
              "      <th>Phone_No</th>\n",
              "      <th>Latitude</th>\n",
              "      <th>Longitude</th>\n",
              "      <th>Known_For2</th>\n",
              "      <th>Known_For22</th>\n",
              "    </tr>\n",
              "  </thead>\n",
              "  <tbody>\n",
              "    <tr>\n",
              "      <th>0</th>\n",
              "      <td>Rustom's</td>\n",
              "      <td>Parsi, Street Food, North Indian, Desserts, Be...</td>\n",
              "      <td>2100</td>\n",
              "      <td>ITO, New Delhi</td>\n",
              "      <td>4.9</td>\n",
              "      <td>1885</td>\n",
              "      <td>4.400000</td>\n",
              "      <td>1844</td>\n",
              "      <td>https://www.zomato.com/ncr/rustoms-ito-new-delhi</td>\n",
              "      <td>Delhi Parsi Anjuman, LNJP Colony, Bahadur Shah...</td>\n",
              "      <td>9.1991E+11</td>\n",
              "      <td>28.638167</td>\n",
              "      <td>77.240472</td>\n",
              "      <td>Get a complimentary night, earn up to 50% of s...</td>\n",
              "      <td>Pretty Decor, Perfect Presentation, Tamper Pro...</td>\n",
              "    </tr>\n",
              "    <tr>\n",
              "      <th>1</th>\n",
              "      <td>Cafe Lota</td>\n",
              "      <td>Cafe, South Indian, North Indian, Beverages</td>\n",
              "      <td>1200</td>\n",
              "      <td>Pragati Maidan, New Delhi</td>\n",
              "      <td>4.9</td>\n",
              "      <td>3748</td>\n",
              "      <td>3.900000</td>\n",
              "      <td>37</td>\n",
              "      <td>https://www.zomato.com/ncr/cafe-lota-pragati-m...</td>\n",
              "      <td>National Crafts Museum, Gate 2, Bhairon Marg, ...</td>\n",
              "      <td>9.17839E+11</td>\n",
              "      <td>28.613429</td>\n",
              "      <td>77.242471</td>\n",
              "      <td>Pondicherry Fish Curry, Coconut Rabdi, Sabudan...</td>\n",
              "      <td>Artistic Decor, The Service, Natural Ambience,...</td>\n",
              "    </tr>\n",
              "    <tr>\n",
              "      <th>2</th>\n",
              "      <td>Dum-Pukht - ITC Maurya</td>\n",
              "      <td>Mughlai, North Indian, Desserts</td>\n",
              "      <td>5000</td>\n",
              "      <td>ITC Maurya, Chanakyapuri, New Delhi</td>\n",
              "      <td>4.9</td>\n",
              "      <td>1371</td>\n",
              "      <td>3.964299</td>\n",
              "      <td>0</td>\n",
              "      <td>https://www.zomato.com/ncr/dum-pukht-itc-maury...</td>\n",
              "      <td>ITC Maurya, Chanakyapuri, New Delhi</td>\n",
              "      <td>9.11146E+11</td>\n",
              "      <td>28.598200</td>\n",
              "      <td>77.173661</td>\n",
              "      <td>Royal ambiance and Mughlai cuisine, also recei...</td>\n",
              "      <td>Pretty Decor, Perfect Presentation, Tamper Pro...</td>\n",
              "    </tr>\n",
              "    <tr>\n",
              "      <th>3</th>\n",
              "      <td>Burma Burma</td>\n",
              "      <td>Asian, Burmese, Bubble Tea, Desserts, Salad</td>\n",
              "      <td>1600</td>\n",
              "      <td>Cyber Hub, DLF Cyber City, Gurgaon</td>\n",
              "      <td>4.9</td>\n",
              "      <td>2636</td>\n",
              "      <td>4.400000</td>\n",
              "      <td>1238</td>\n",
              "      <td>https://www.zomato.com/ncr/burma-burma-dlf-cyb...</td>\n",
              "      <td>Shop 6, Ground Floor, Building 8, Tower C, Cyb...</td>\n",
              "      <td>9.11244E+11</td>\n",
              "      <td>28.494464</td>\n",
              "      <td>77.088532</td>\n",
              "      <td>Coconut Milk Dessert, Honey Caviar, Kaffir Lim...</td>\n",
              "      <td>Knowledgeable Staff, Authentic, Soothing Ambie...</td>\n",
              "    </tr>\n",
              "    <tr>\n",
              "      <th>4</th>\n",
              "      <td>The Big Chill</td>\n",
              "      <td>Continental, American, Italian</td>\n",
              "      <td>1500</td>\n",
              "      <td>Khan Market, New Delhi</td>\n",
              "      <td>4.9</td>\n",
              "      <td>6487</td>\n",
              "      <td>3.964299</td>\n",
              "      <td>0</td>\n",
              "      <td>https://www.zomato.com/ncr/the-big-chill-khan-...</td>\n",
              "      <td>68-A, Khan Market, New Delhi</td>\n",
              "      <td>9.11142E+11</td>\n",
              "      <td>28.600350</td>\n",
              "      <td>77.227493</td>\n",
              "      <td>Irish Cream Tiramisu, Penne Vodka, Mississippi...</td>\n",
              "      <td>Retro Ambience, Yummy Desserts, Big Portions, ...</td>\n",
              "    </tr>\n",
              "  </tbody>\n",
              "</table>\n",
              "</div>\n",
              "    <div class=\"colab-df-buttons\">\n",
              "\n",
              "  <div class=\"colab-df-container\">\n",
              "    <button class=\"colab-df-convert\" onclick=\"convertToInteractive('df-4159d365-c4a0-4cb2-9224-a810490aa44a')\"\n",
              "            title=\"Convert this dataframe to an interactive table.\"\n",
              "            style=\"display:none;\">\n",
              "\n",
              "  <svg xmlns=\"http://www.w3.org/2000/svg\" height=\"24px\" viewBox=\"0 -960 960 960\">\n",
              "    <path d=\"M120-120v-720h720v720H120Zm60-500h600v-160H180v160Zm220 220h160v-160H400v160Zm0 220h160v-160H400v160ZM180-400h160v-160H180v160Zm440 0h160v-160H620v160ZM180-180h160v-160H180v160Zm440 0h160v-160H620v160Z\"/>\n",
              "  </svg>\n",
              "    </button>\n",
              "\n",
              "  <style>\n",
              "    .colab-df-container {\n",
              "      display:flex;\n",
              "      gap: 12px;\n",
              "    }\n",
              "\n",
              "    .colab-df-convert {\n",
              "      background-color: #E8F0FE;\n",
              "      border: none;\n",
              "      border-radius: 50%;\n",
              "      cursor: pointer;\n",
              "      display: none;\n",
              "      fill: #1967D2;\n",
              "      height: 32px;\n",
              "      padding: 0 0 0 0;\n",
              "      width: 32px;\n",
              "    }\n",
              "\n",
              "    .colab-df-convert:hover {\n",
              "      background-color: #E2EBFA;\n",
              "      box-shadow: 0px 1px 2px rgba(60, 64, 67, 0.3), 0px 1px 3px 1px rgba(60, 64, 67, 0.15);\n",
              "      fill: #174EA6;\n",
              "    }\n",
              "\n",
              "    .colab-df-buttons div {\n",
              "      margin-bottom: 4px;\n",
              "    }\n",
              "\n",
              "    [theme=dark] .colab-df-convert {\n",
              "      background-color: #3B4455;\n",
              "      fill: #D2E3FC;\n",
              "    }\n",
              "\n",
              "    [theme=dark] .colab-df-convert:hover {\n",
              "      background-color: #434B5C;\n",
              "      box-shadow: 0px 1px 3px 1px rgba(0, 0, 0, 0.15);\n",
              "      filter: drop-shadow(0px 1px 2px rgba(0, 0, 0, 0.3));\n",
              "      fill: #FFFFFF;\n",
              "    }\n",
              "  </style>\n",
              "\n",
              "    <script>\n",
              "      const buttonEl =\n",
              "        document.querySelector('#df-4159d365-c4a0-4cb2-9224-a810490aa44a button.colab-df-convert');\n",
              "      buttonEl.style.display =\n",
              "        google.colab.kernel.accessAllowed ? 'block' : 'none';\n",
              "\n",
              "      async function convertToInteractive(key) {\n",
              "        const element = document.querySelector('#df-4159d365-c4a0-4cb2-9224-a810490aa44a');\n",
              "        const dataTable =\n",
              "          await google.colab.kernel.invokeFunction('convertToInteractive',\n",
              "                                                    [key], {});\n",
              "        if (!dataTable) return;\n",
              "\n",
              "        const docLinkHtml = 'Like what you see? Visit the ' +\n",
              "          '<a target=\"_blank\" href=https://colab.research.google.com/notebooks/data_table.ipynb>data table notebook</a>'\n",
              "          + ' to learn more about interactive tables.';\n",
              "        element.innerHTML = '';\n",
              "        dataTable['output_type'] = 'display_data';\n",
              "        await google.colab.output.renderOutput(dataTable, element);\n",
              "        const docLink = document.createElement('div');\n",
              "        docLink.innerHTML = docLinkHtml;\n",
              "        element.appendChild(docLink);\n",
              "      }\n",
              "    </script>\n",
              "  </div>\n",
              "\n",
              "\n",
              "<div id=\"df-4ce9d09c-49dc-4775-90fc-683140a870b8\">\n",
              "  <button class=\"colab-df-quickchart\" onclick=\"quickchart('df-4ce9d09c-49dc-4775-90fc-683140a870b8')\"\n",
              "            title=\"Suggest charts.\"\n",
              "            style=\"display:none;\">\n",
              "\n",
              "<svg xmlns=\"http://www.w3.org/2000/svg\" height=\"24px\"viewBox=\"0 0 24 24\"\n",
              "     width=\"24px\">\n",
              "    <g>\n",
              "        <path d=\"M19 3H5c-1.1 0-2 .9-2 2v14c0 1.1.9 2 2 2h14c1.1 0 2-.9 2-2V5c0-1.1-.9-2-2-2zM9 17H7v-7h2v7zm4 0h-2V7h2v10zm4 0h-2v-4h2v4z\"/>\n",
              "    </g>\n",
              "</svg>\n",
              "  </button>\n",
              "\n",
              "<style>\n",
              "  .colab-df-quickchart {\n",
              "      --bg-color: #E8F0FE;\n",
              "      --fill-color: #1967D2;\n",
              "      --hover-bg-color: #E2EBFA;\n",
              "      --hover-fill-color: #174EA6;\n",
              "      --disabled-fill-color: #AAA;\n",
              "      --disabled-bg-color: #DDD;\n",
              "  }\n",
              "\n",
              "  [theme=dark] .colab-df-quickchart {\n",
              "      --bg-color: #3B4455;\n",
              "      --fill-color: #D2E3FC;\n",
              "      --hover-bg-color: #434B5C;\n",
              "      --hover-fill-color: #FFFFFF;\n",
              "      --disabled-bg-color: #3B4455;\n",
              "      --disabled-fill-color: #666;\n",
              "  }\n",
              "\n",
              "  .colab-df-quickchart {\n",
              "    background-color: var(--bg-color);\n",
              "    border: none;\n",
              "    border-radius: 50%;\n",
              "    cursor: pointer;\n",
              "    display: none;\n",
              "    fill: var(--fill-color);\n",
              "    height: 32px;\n",
              "    padding: 0;\n",
              "    width: 32px;\n",
              "  }\n",
              "\n",
              "  .colab-df-quickchart:hover {\n",
              "    background-color: var(--hover-bg-color);\n",
              "    box-shadow: 0 1px 2px rgba(60, 64, 67, 0.3), 0 1px 3px 1px rgba(60, 64, 67, 0.15);\n",
              "    fill: var(--button-hover-fill-color);\n",
              "  }\n",
              "\n",
              "  .colab-df-quickchart-complete:disabled,\n",
              "  .colab-df-quickchart-complete:disabled:hover {\n",
              "    background-color: var(--disabled-bg-color);\n",
              "    fill: var(--disabled-fill-color);\n",
              "    box-shadow: none;\n",
              "  }\n",
              "\n",
              "  .colab-df-spinner {\n",
              "    border: 2px solid var(--fill-color);\n",
              "    border-color: transparent;\n",
              "    border-bottom-color: var(--fill-color);\n",
              "    animation:\n",
              "      spin 1s steps(1) infinite;\n",
              "  }\n",
              "\n",
              "  @keyframes spin {\n",
              "    0% {\n",
              "      border-color: transparent;\n",
              "      border-bottom-color: var(--fill-color);\n",
              "      border-left-color: var(--fill-color);\n",
              "    }\n",
              "    20% {\n",
              "      border-color: transparent;\n",
              "      border-left-color: var(--fill-color);\n",
              "      border-top-color: var(--fill-color);\n",
              "    }\n",
              "    30% {\n",
              "      border-color: transparent;\n",
              "      border-left-color: var(--fill-color);\n",
              "      border-top-color: var(--fill-color);\n",
              "      border-right-color: var(--fill-color);\n",
              "    }\n",
              "    40% {\n",
              "      border-color: transparent;\n",
              "      border-right-color: var(--fill-color);\n",
              "      border-top-color: var(--fill-color);\n",
              "    }\n",
              "    60% {\n",
              "      border-color: transparent;\n",
              "      border-right-color: var(--fill-color);\n",
              "    }\n",
              "    80% {\n",
              "      border-color: transparent;\n",
              "      border-right-color: var(--fill-color);\n",
              "      border-bottom-color: var(--fill-color);\n",
              "    }\n",
              "    90% {\n",
              "      border-color: transparent;\n",
              "      border-bottom-color: var(--fill-color);\n",
              "    }\n",
              "  }\n",
              "</style>\n",
              "\n",
              "  <script>\n",
              "    async function quickchart(key) {\n",
              "      const quickchartButtonEl =\n",
              "        document.querySelector('#' + key + ' button');\n",
              "      quickchartButtonEl.disabled = true;  // To prevent multiple clicks.\n",
              "      quickchartButtonEl.classList.add('colab-df-spinner');\n",
              "      try {\n",
              "        const charts = await google.colab.kernel.invokeFunction(\n",
              "            'suggestCharts', [key], {});\n",
              "      } catch (error) {\n",
              "        console.error('Error during call to suggestCharts:', error);\n",
              "      }\n",
              "      quickchartButtonEl.classList.remove('colab-df-spinner');\n",
              "      quickchartButtonEl.classList.add('colab-df-quickchart-complete');\n",
              "    }\n",
              "    (() => {\n",
              "      let quickchartButtonEl =\n",
              "        document.querySelector('#df-4ce9d09c-49dc-4775-90fc-683140a870b8 button');\n",
              "      quickchartButtonEl.style.display =\n",
              "        google.colab.kernel.accessAllowed ? 'block' : 'none';\n",
              "    })();\n",
              "  </script>\n",
              "</div>\n",
              "    </div>\n",
              "  </div>\n"
            ]
          },
          "metadata": {},
          "execution_count": 32
        }
      ]
    },
    {
      "cell_type": "code",
      "source": [
        "zomato_max_dining_count = zomato_max_rating[\"Dining_Review_Count\"].max()\n",
        "print(zomato_max_dining_count)"
      ],
      "metadata": {
        "id": "WZVZtbiVW1YV",
        "outputId": "73bf60d0-d7e0-4412-9a26-2b5d8a4b5c18",
        "colab": {
          "base_uri": "https://localhost:8080/"
        }
      },
      "execution_count": 34,
      "outputs": [
        {
          "output_type": "stream",
          "name": "stdout",
          "text": [
            "6487\n"
          ]
        }
      ]
    },
    {
      "cell_type": "code",
      "source": [
        "best_rating_restaurant = zomato_max_rating[zomato_max_rating[\"Dining_Review_Count\"]==zomato_max_dining_count]\n",
        "print(best_rating_restaurant[\"Restaurant_Name\"])"
      ],
      "metadata": {
        "id": "ZZKlX5iIXJQf",
        "outputId": "27be5a3e-b925-489e-a93b-da2f37858217",
        "colab": {
          "base_uri": "https://localhost:8080/"
        }
      },
      "execution_count": 38,
      "outputs": [
        {
          "output_type": "stream",
          "name": "stdout",
          "text": [
            "4    The Big Chill\n",
            "Name: Restaurant_Name, dtype: object\n"
          ]
        }
      ]
    },
    {
      "cell_type": "markdown",
      "source": [
        "**\"The Big Chill\" is the best restaurant having rating more than 4.5.**"
      ],
      "metadata": {
        "id": "rq0sGLkyYJFu"
      }
    },
    {
      "cell_type": "markdown",
      "source": [
        "Q6.Compare different delivery rating counts of different restaurants.\n",
        "Also tell that which restaurants has got the highest rating counts.\n",
        "Do this by creating a barplot"
      ],
      "metadata": {
        "id": "S0xc-qANHHoj"
      }
    },
    {
      "cell_type": "code",
      "source": [
        "Zomato"
      ],
      "metadata": {
        "id": "fbQ26HqYIGfC"
      },
      "execution_count": null,
      "outputs": []
    },
    {
      "cell_type": "code",
      "source": [
        "Restaurants=Zomato[\"Restaurant_Name\"]\n",
        "print(Restaurants)\n",
        "print(len(Restaurants))"
      ],
      "metadata": {
        "id": "L8JiWyFIIPes"
      },
      "execution_count": null,
      "outputs": []
    },
    {
      "cell_type": "code",
      "source": [
        "DRC=Zomato[\"Delivery_Rating_Count\"]\n",
        "DRC"
      ],
      "metadata": {
        "id": "T2kIlYm3URG4"
      },
      "execution_count": null,
      "outputs": []
    },
    {
      "cell_type": "code",
      "source": [
        "DRC.max()"
      ],
      "metadata": {
        "id": "EJMbKmx5UUQF"
      },
      "execution_count": null,
      "outputs": []
    },
    {
      "cell_type": "code",
      "source": [
        "print(next(i for i,x in\n",
        "          enumerate(DRC) if x==87700))"
      ],
      "metadata": {
        "id": "myQpMgOjUULW"
      },
      "execution_count": null,
      "outputs": []
    },
    {
      "cell_type": "code",
      "source": [
        "DRC[136]"
      ],
      "metadata": {
        "id": "ImGu1J2rUUH1"
      },
      "execution_count": null,
      "outputs": []
    },
    {
      "cell_type": "code",
      "source": [
        "Restaurants[136]"
      ],
      "metadata": {
        "id": "5R_eBS4IUdkW"
      },
      "execution_count": null,
      "outputs": []
    },
    {
      "cell_type": "code",
      "source": [
        "plt.bar(Restaurants,DRC,width=0.5)\n",
        "plt.xlabel(\"Restaurants\")\n",
        "plt.ylabel(\"DRC\")\n",
        "plt.show()"
      ],
      "metadata": {
        "id": "xrUNZFsUUgVf"
      },
      "execution_count": null,
      "outputs": []
    },
    {
      "cell_type": "markdown",
      "source": [
        "**\"PUNJABI ANGITHI\" has got the highest no. of rating counts.**"
      ],
      "metadata": {
        "id": "ZvwL0eNaUju5"
      }
    }
  ]
}